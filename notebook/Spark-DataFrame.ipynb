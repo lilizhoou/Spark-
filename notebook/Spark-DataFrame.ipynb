{
 "cells": [
  {
   "cell_type": "markdown",
   "metadata": {
    "application/vnd.databricks.v1+cell": {
     "cellMetadata": {},
     "inputWidgets": {},
     "nuid": "256fb8f1-a6f3-4e2e-b631-21c2ccefec36",
     "showTitle": false,
     "tableResultSettingsMap": {},
     "title": ""
    }
   },
   "source": [
    "# 01 Getting Started "
   ]
  },
  {
   "cell_type": "markdown",
   "metadata": {
    "application/vnd.databricks.v1+cell": {
     "cellMetadata": {},
     "inputWidgets": {},
     "nuid": "f267808d-c27a-4b9f-8e74-1677ebde0a5c",
     "showTitle": false,
     "tableResultSettingsMap": {},
     "title": ""
    }
   },
   "source": [
    "## load data"
   ]
  },
  {
   "cell_type": "code",
   "execution_count": 0,
   "metadata": {
    "application/vnd.databricks.v1+cell": {
     "cellMetadata": {
      "byteLimit": 2048000,
      "rowLimit": 10000
     },
     "inputWidgets": {},
     "nuid": "ff9aebfe-b228-4f3c-a644-b5a851901780",
     "showTitle": false,
     "tableResultSettingsMap": {},
     "title": ""
    }
   },
   "outputs": [],
   "source": [
    "df = spark.read.format('csv') \\\n",
    "        .option('header','true') \\\n",
    "        .option('inferSchema','true') \\\n",
    "        .load('/databricks-datasets/Rdatasets/data-001/csv/ggplot2/diamonds.csv')"
   ]
  },
  {
   "cell_type": "code",
   "execution_count": 0,
   "metadata": {
    "application/vnd.databricks.v1+cell": {
     "cellMetadata": {
      "byteLimit": 2048000,
      "rowLimit": 10000
     },
     "inputWidgets": {},
     "nuid": "d700297a-5d58-4d87-b7b8-afeb608e093d",
     "showTitle": false,
     "tableResultSettingsMap": {},
     "title": ""
    }
   },
   "outputs": [
    {
     "output_type": "stream",
     "name": "stdout",
     "output_type": "stream",
     "text": [
      "+---+-----+---------+-----+-------+-----+-----+-----+----+----+----+\n|_c0|carat|      cut|color|clarity|depth|table|price|   x|   y|   z|\n+---+-----+---------+-----+-------+-----+-----+-----+----+----+----+\n|  1| 0.23|    Ideal|    E|    SI2| 61.5| 55.0|  326|3.95|3.98|2.43|\n|  2| 0.21|  Premium|    E|    SI1| 59.8| 61.0|  326|3.89|3.84|2.31|\n|  3| 0.23|     Good|    E|    VS1| 56.9| 65.0|  327|4.05|4.07|2.31|\n|  4| 0.29|  Premium|    I|    VS2| 62.4| 58.0|  334| 4.2|4.23|2.63|\n|  5| 0.31|     Good|    J|    SI2| 63.3| 58.0|  335|4.34|4.35|2.75|\n|  6| 0.24|Very Good|    J|   VVS2| 62.8| 57.0|  336|3.94|3.96|2.48|\n|  7| 0.24|Very Good|    I|   VVS1| 62.3| 57.0|  336|3.95|3.98|2.47|\n|  8| 0.26|Very Good|    H|    SI1| 61.9| 55.0|  337|4.07|4.11|2.53|\n|  9| 0.22|     Fair|    E|    VS2| 65.1| 61.0|  337|3.87|3.78|2.49|\n| 10| 0.23|Very Good|    H|    VS1| 59.4| 61.0|  338| 4.0|4.05|2.39|\n+---+-----+---------+-----+-------+-----+-----+-----+----+----+----+\nonly showing top 10 rows\n\n"
     ]
    }
   ],
   "source": [
    "df.show(10)"
   ]
  },
  {
   "cell_type": "code",
   "execution_count": 0,
   "metadata": {
    "application/vnd.databricks.v1+cell": {
     "cellMetadata": {
      "byteLimit": 2048000,
      "rowLimit": 10000
     },
     "inputWidgets": {},
     "nuid": "29183eff-2e4d-4739-99f1-b4fd848969ad",
     "showTitle": false,
     "tableResultSettingsMap": {},
     "title": ""
    }
   },
   "outputs": [],
   "source": [
    "# using spark.read.csv function to load data\n",
    "\n",
    "df1 = spark.read.csv ('/databricks-datasets/Rdatasets/data-001/csv/ggplot2/diamonds.csv', \n",
    "          header = 'true',\n",
    "          inferSchema='true')"
   ]
  },
  {
   "cell_type": "code",
   "execution_count": 0,
   "metadata": {
    "application/vnd.databricks.v1+cell": {
     "cellMetadata": {
      "byteLimit": 2048000,
      "rowLimit": 10000
     },
     "inputWidgets": {},
     "nuid": "8f800778-ffe7-42c1-964a-cd34b96bf170",
     "showTitle": false,
     "tableResultSettingsMap": {},
     "title": ""
    }
   },
   "outputs": [
    {
     "output_type": "stream",
     "name": "stdout",
     "output_type": "stream",
     "text": [
      "+---+-----+---------+-----+-------+-----+-----+-----+----+----+----+\n|_c0|carat|      cut|color|clarity|depth|table|price|   x|   y|   z|\n+---+-----+---------+-----+-------+-----+-----+-----+----+----+----+\n|  1| 0.23|    Ideal|    E|    SI2| 61.5| 55.0|  326|3.95|3.98|2.43|\n|  2| 0.21|  Premium|    E|    SI1| 59.8| 61.0|  326|3.89|3.84|2.31|\n|  3| 0.23|     Good|    E|    VS1| 56.9| 65.0|  327|4.05|4.07|2.31|\n|  4| 0.29|  Premium|    I|    VS2| 62.4| 58.0|  334| 4.2|4.23|2.63|\n|  5| 0.31|     Good|    J|    SI2| 63.3| 58.0|  335|4.34|4.35|2.75|\n|  6| 0.24|Very Good|    J|   VVS2| 62.8| 57.0|  336|3.94|3.96|2.48|\n|  7| 0.24|Very Good|    I|   VVS1| 62.3| 57.0|  336|3.95|3.98|2.47|\n|  8| 0.26|Very Good|    H|    SI1| 61.9| 55.0|  337|4.07|4.11|2.53|\n|  9| 0.22|     Fair|    E|    VS2| 65.1| 61.0|  337|3.87|3.78|2.49|\n| 10| 0.23|Very Good|    H|    VS1| 59.4| 61.0|  338| 4.0|4.05|2.39|\n+---+-----+---------+-----+-------+-----+-----+-----+----+----+----+\nonly showing top 10 rows\n\n"
     ]
    }
   ],
   "source": [
    "df1.show(10)"
   ]
  },
  {
   "cell_type": "markdown",
   "metadata": {
    "application/vnd.databricks.v1+cell": {
     "cellMetadata": {},
     "inputWidgets": {},
     "nuid": "1654511a-629d-4a5c-9815-f452bc243ef7",
     "showTitle": false,
     "tableResultSettingsMap": {},
     "title": ""
    }
   },
   "source": [
    "## group by + sort"
   ]
  },
  {
   "cell_type": "code",
   "execution_count": 0,
   "metadata": {
    "application/vnd.databricks.v1+cell": {
     "cellMetadata": {
      "byteLimit": 2048000,
      "rowLimit": 10000
     },
     "inputWidgets": {},
     "nuid": "462f40bd-1450-40ba-ba16-0aa82bfcc034",
     "showTitle": false,
     "tableResultSettingsMap": {},
     "title": ""
    }
   },
   "outputs": [
    {
     "output_type": "stream",
     "name": "stdout",
     "output_type": "stream",
     "text": [
      "+-----+------------------+\n|color|        avg(price)|\n+-----+------------------+\n|    D|3169.9540959409596|\n|    E|3076.7524752475247|\n|    F| 3724.886396981765|\n|    G| 3999.135671271697|\n|    H| 4486.669195568401|\n|    I| 5091.874953891553|\n|    J|  5323.81801994302|\n+-----+------------------+\n\n"
     ]
    }
   ],
   "source": [
    "from pyspark.sql import functions as f\n",
    "\n",
    "df_result = df.select('color','price').groupby('color').agg(avg('price')).sort('color')\n",
    "df_result.show()"
   ]
  },
  {
   "cell_type": "code",
   "execution_count": 0,
   "metadata": {
    "application/vnd.databricks.v1+cell": {
     "cellMetadata": {
      "byteLimit": 2048000,
      "rowLimit": 10000
     },
     "inputWidgets": {},
     "nuid": "ad100654-0240-4206-8451-42638e9feb00",
     "showTitle": false,
     "tableResultSettingsMap": {},
     "title": ""
    }
   },
   "outputs": [
    {
     "output_type": "stream",
     "name": "stdout",
     "output_type": "stream",
     "text": [
      "+---+-----+---------+-----+-------+-----+-----+-----+----+----+----+\n|_c0|carat|      cut|color|clarity|depth|table|price|   x|   y|   z|\n+---+-----+---------+-----+-------+-----+-----+-----+----+----+----+\n|  1| 0.23|    Ideal|    E|    SI2| 61.5| 55.0|  326|3.95|3.98|2.43|\n|  2| 0.21|  Premium|    E|    SI1| 59.8| 61.0|  326|3.89|3.84|2.31|\n|  3| 0.23|     Good|    E|    VS1| 56.9| 65.0|  327|4.05|4.07|2.31|\n|  4| 0.29|  Premium|    I|    VS2| 62.4| 58.0|  334| 4.2|4.23|2.63|\n|  5| 0.31|     Good|    J|    SI2| 63.3| 58.0|  335|4.34|4.35|2.75|\n|  6| 0.24|Very Good|    J|   VVS2| 62.8| 57.0|  336|3.94|3.96|2.48|\n|  7| 0.24|Very Good|    I|   VVS1| 62.3| 57.0|  336|3.95|3.98|2.47|\n|  8| 0.26|Very Good|    H|    SI1| 61.9| 55.0|  337|4.07|4.11|2.53|\n|  9| 0.22|     Fair|    E|    VS2| 65.1| 61.0|  337|3.87|3.78|2.49|\n| 10| 0.23|Very Good|    H|    VS1| 59.4| 61.0|  338| 4.0|4.05|2.39|\n| 11|  0.3|     Good|    J|    SI1| 64.0| 55.0|  339|4.25|4.28|2.73|\n| 12| 0.23|    Ideal|    J|    VS1| 62.8| 56.0|  340|3.93| 3.9|2.46|\n| 13| 0.22|  Premium|    F|    SI1| 60.4| 61.0|  342|3.88|3.84|2.33|\n| 14| 0.31|    Ideal|    J|    SI2| 62.2| 54.0|  344|4.35|4.37|2.71|\n| 15|  0.2|  Premium|    E|    SI2| 60.2| 62.0|  345|3.79|3.75|2.27|\n| 16| 0.32|  Premium|    E|     I1| 60.9| 58.0|  345|4.38|4.42|2.68|\n| 17|  0.3|    Ideal|    I|    SI2| 62.0| 54.0|  348|4.31|4.34|2.68|\n| 18|  0.3|     Good|    J|    SI1| 63.4| 54.0|  351|4.23|4.29| 2.7|\n| 19|  0.3|     Good|    J|    SI1| 63.8| 56.0|  351|4.23|4.26|2.71|\n| 20|  0.3|Very Good|    J|    SI1| 62.7| 59.0|  351|4.21|4.27|2.66|\n+---+-----+---------+-----+-------+-----+-----+-----+----+----+----+\nonly showing top 20 rows\n\n"
     ]
    }
   ],
   "source": [
    "df.show()"
   ]
  },
  {
   "cell_type": "code",
   "execution_count": 0,
   "metadata": {
    "application/vnd.databricks.v1+cell": {
     "cellMetadata": {
      "byteLimit": 2048000,
      "rowLimit": 10000
     },
     "inputWidgets": {},
     "nuid": "0d840639-e3a6-45e6-91f9-7b87a0462f28",
     "showTitle": false,
     "tableResultSettingsMap": {},
     "title": ""
    }
   },
   "outputs": [
    {
     "output_type": "stream",
     "name": "stdout",
     "output_type": "stream",
     "text": [
      "+-----+--------------+\n|color|most_expensive|\n+-----+--------------+\n|    I|         18823|\n|    G|         18818|\n|    H|         18803|\n|    F|         18791|\n|    E|         18731|\n|    J|         18710|\n|    D|         18693|\n+-----+--------------+\n\n"
     ]
    }
   ],
   "source": [
    "#agg max()\n",
    "#sort(col('xx'.desc()))\n",
    "\n",
    "df_max = df.select('color','price').groupby('color').agg(max('price').alias('most_expensive')).sort(col('most_expensive').desc())\n",
    "df_max.show()\n",
    "\n",
    "#others agg - avg(),min(),count(),sum(),max()"
   ]
  },
  {
   "cell_type": "markdown",
   "metadata": {
    "application/vnd.databricks.v1+cell": {
     "cellMetadata": {},
     "inputWidgets": {},
     "nuid": "26839e22-819b-42ba-8d5b-aabdad386f06",
     "showTitle": false,
     "tableResultSettingsMap": {},
     "title": ""
    }
   },
   "source": [
    "## create global view "
   ]
  },
  {
   "cell_type": "code",
   "execution_count": 0,
   "metadata": {
    "application/vnd.databricks.v1+cell": {
     "cellMetadata": {
      "byteLimit": 2048000,
      "rowLimit": 10000
     },
     "inputWidgets": {},
     "nuid": "ba00db22-805c-4ada-9937-a3c344fb6110",
     "showTitle": false,
     "tableResultSettingsMap": {},
     "title": ""
    }
   },
   "outputs": [
    {
     "output_type": "stream",
     "name": "stdout",
     "output_type": "stream",
     "text": [
      "+-----------+-------+---------------+----------------+----------+----------+----------------------+--------------------+--------------------+----+-------------------+---------+------------+----+------------+--------+--------------+--------+---------------+---------+------------+------------------------------+------------------------+-------------------+---------------+--------------------+-------------+------------------+\n|Call Number|Unit ID|Incident Number|        CallType| Call Date|Watch Date|Call Final Disposition|      Available DtTm|             Address|City|Zipcode of Incident|Battalion|Station Area| Box|OrigPriority|Priority|Final Priority|ALS Unit|Call Type Group|NumAlarms|    UnitType|Unit sequence in call dispatch|Fire Prevention District|Supervisor District|   Neighborhood|            Location|        RowID|             Delay|\n+-----------+-------+---------------+----------------+----------+----------+----------------------+--------------------+--------------------+----+-------------------+---------+------------+----+------------+--------+--------------+--------+---------------+---------+------------+------------------------------+------------------------+-------------------+---------------+--------------------+-------------+------------------+\n|   20110014|    M29|        2003234|Medical Incident|2002-01-11|2002-01-10|                 Other|01/11/2002 01:58:...|   10TH ST/MARKET ST|  SF|              94103|      B02|          36|2338|           1|       1|             2|    true|           null|        1|       MEDIC|                             1|                       2|                  6|     Tenderloin|(37.7765408927183...|020110014-M29| 5.233333333333333|\n|   20110015|    M08|        2003233|Medical Incident|2002-01-11|2002-01-10|                 Other|01/11/2002 02:10:...| 300 Block of 5TH ST|  SF|              94107|      B03|          08|2243|           1|       1|             2|    true|           null|        1|       MEDIC|                             1|                       3|                  6|South of Market|(37.7792841462441...|020110015-M08|3.0833333333333335|\n|   20110016|    B02|        2003235|  Structure Fire|2002-01-11|2002-01-10|                 Other|01/11/2002 01:47:...|2000 Block of CAL...|  SF|              94109|      B04|          38|3362|           3|       3|             3|   false|           null|        1|       CHIEF|                             6|                       4|                  5|Pacific Heights|(37.7895840679362...|020110016-B02|              3.05|\n|   20110016|    B04|        2003235|  Structure Fire|2002-01-11|2002-01-10|                 Other|01/11/2002 01:51:...|2000 Block of CAL...|  SF|              94109|      B04|          38|3362|           3|       3|             3|   false|           null|        1|       CHIEF|                             3|                       4|                  5|Pacific Heights|(37.7895840679362...|020110016-B04| 2.316666666666667|\n|   20110016|     D2|        2003235|  Structure Fire|2002-01-11|2002-01-10|                 Other|01/11/2002 01:47:...|2000 Block of CAL...|  SF|              94109|      B04|          38|3362|           3|       3|             3|   false|           null|        1|       CHIEF|                             4|                       4|                  5|Pacific Heights|(37.7895840679362...| 020110016-D2|3.0166666666666666|\n|   20110016|    E03|        2003235|  Structure Fire|2002-01-11|2002-01-10|                 Other|01/11/2002 01:47:...|2000 Block of CAL...|  SF|              94109|      B04|          38|3362|           3|       3|             3|   false|           null|        1|      ENGINE|                             7|                       4|                  5|Pacific Heights|(37.7895840679362...|020110016-E03| 2.683333333333333|\n|   20110016|    E38|        2003235|  Structure Fire|2002-01-11|2002-01-10|                 Other|01/11/2002 01:51:...|2000 Block of CAL...|  SF|              94109|      B04|          38|3362|           3|       3|             3|   false|           null|        1|      ENGINE|                             1|                       4|                  5|Pacific Heights|(37.7895840679362...|020110016-E38|               2.1|\n|   20110016|    E41|        2003235|  Structure Fire|2002-01-11|2002-01-10|                 Other|01/11/2002 01:47:...|2000 Block of CAL...|  SF|              94109|      B04|          38|3362|           3|       3|             3|   false|           null|        1|      ENGINE|                             8|                       4|                  5|Pacific Heights|(37.7895840679362...|020110016-E41| 2.716666666666667|\n|   20110016|    M03|        2003235|  Structure Fire|2002-01-11|2002-01-10|                 Other|01/11/2002 01:46:...|2000 Block of CAL...|  SF|              94109|      B04|          38|3362|           3|       3|             3|    true|           null|        1|       MEDIC|                            10|                       4|                  5|Pacific Heights|(37.7895840679362...|020110016-M03|2.7666666666666666|\n|   20110016|    RS1|        2003235|  Structure Fire|2002-01-11|2002-01-10|                 Other|01/11/2002 01:46:...|2000 Block of CAL...|  SF|              94109|      B04|          38|3362|           3|       3|             3|   false|           null|        1|RESCUE SQUAD|                             9|                       4|                  5|Pacific Heights|(37.7895840679362...|020110016-RS1|3.2666666666666666|\n+-----------+-------+---------------+----------------+----------+----------+----------------------+--------------------+--------------------+----+-------------------+---------+------------+----+------------+--------+--------------+--------+---------------+---------+------------+------------------------------+------------------------+-------------------+---------------+--------------------+-------------+------------------+\nonly showing top 10 rows\n\n"
     ]
    }
   ],
   "source": [
    "raw_fire_df = spark.read \\\n",
    "                .format('csv')\\\n",
    "                .option('header','true') \\\n",
    "                .option('inferSchema','true') \\\n",
    "                .load(\"/databricks-datasets/learning-spark-v2/sf-fire/sf-fire-calls.csv\")\n",
    "\n",
    "raw_fire_df.show(10)"
   ]
  },
  {
   "cell_type": "code",
   "execution_count": 0,
   "metadata": {
    "application/vnd.databricks.v1+cell": {
     "cellMetadata": {
      "byteLimit": 2048000,
      "rowLimit": 10000
     },
     "inputWidgets": {},
     "nuid": "acabe0d1-90f7-4da6-a0a4-2082337c8d8d",
     "showTitle": false,
     "tableResultSettingsMap": {},
     "title": ""
    }
   },
   "outputs": [
    {
     "output_type": "display_data",
     "data": {
      "text/html": [
       "<style scoped>\n",
       "  .table-result-container {\n",
       "    max-height: 300px;\n",
       "    overflow: auto;\n",
       "  }\n",
       "  table, th, td {\n",
       "    border: 1px solid black;\n",
       "    border-collapse: collapse;\n",
       "  }\n",
       "  th, td {\n",
       "    padding: 5px;\n",
       "  }\n",
       "  th {\n",
       "    text-align: left;\n",
       "  }\n",
       "</style><div class='table-result-container'><table class='table-result'><thead style='background-color: white'><tr><th>Call Number</th><th>Unit ID</th><th>Incident Number</th><th>CallType</th><th>Call Date</th><th>Watch Date</th><th>Call Final Disposition</th><th>Available DtTm</th><th>Address</th><th>City</th><th>Zipcode of Incident</th><th>Battalion</th><th>Station Area</th><th>Box</th><th>OrigPriority</th><th>Priority</th><th>Final Priority</th><th>ALS Unit</th><th>Call Type Group</th><th>NumAlarms</th><th>UnitType</th><th>Unit sequence in call dispatch</th><th>Fire Prevention District</th><th>Supervisor District</th><th>Neighborhood</th><th>Location</th><th>RowID</th><th>Delay</th></tr></thead><tbody><tr><td>20110014</td><td>M29</td><td>2003234</td><td>Medical Incident</td><td>2002-01-11</td><td>2002-01-10</td><td>Other</td><td>01/11/2002 01:58:43 AM</td><td>10TH ST/MARKET ST</td><td>SF</td><td>94103</td><td>B02</td><td>36</td><td>2338</td><td>1</td><td>1</td><td>2</td><td>true</td><td>null</td><td>1</td><td>MEDIC</td><td>1</td><td>2</td><td>6</td><td>Tenderloin</td><td>(37.7765408927183, -122.417501464907)</td><td>020110014-M29</td><td>5.233333333333333</td></tr><tr><td>20110015</td><td>M08</td><td>2003233</td><td>Medical Incident</td><td>2002-01-11</td><td>2002-01-10</td><td>Other</td><td>01/11/2002 02:10:17 AM</td><td>300 Block of 5TH ST</td><td>SF</td><td>94107</td><td>B03</td><td>08</td><td>2243</td><td>1</td><td>1</td><td>2</td><td>true</td><td>null</td><td>1</td><td>MEDIC</td><td>1</td><td>3</td><td>6</td><td>South of Market</td><td>(37.7792841462441, -122.402061300134)</td><td>020110015-M08</td><td>3.0833333333333335</td></tr><tr><td>20110016</td><td>B02</td><td>2003235</td><td>Structure Fire</td><td>2002-01-11</td><td>2002-01-10</td><td>Other</td><td>01/11/2002 01:47:00 AM</td><td>2000 Block of CALIFORNIA ST</td><td>SF</td><td>94109</td><td>B04</td><td>38</td><td>3362</td><td>3</td><td>3</td><td>3</td><td>false</td><td>null</td><td>1</td><td>CHIEF</td><td>6</td><td>4</td><td>5</td><td>Pacific Heights</td><td>(37.7895840679362, -122.428071912459)</td><td>020110016-B02</td><td>3.05</td></tr><tr><td>20110016</td><td>B04</td><td>2003235</td><td>Structure Fire</td><td>2002-01-11</td><td>2002-01-10</td><td>Other</td><td>01/11/2002 01:51:54 AM</td><td>2000 Block of CALIFORNIA ST</td><td>SF</td><td>94109</td><td>B04</td><td>38</td><td>3362</td><td>3</td><td>3</td><td>3</td><td>false</td><td>null</td><td>1</td><td>CHIEF</td><td>3</td><td>4</td><td>5</td><td>Pacific Heights</td><td>(37.7895840679362, -122.428071912459)</td><td>020110016-B04</td><td>2.316666666666667</td></tr><tr><td>20110016</td><td>D2</td><td>2003235</td><td>Structure Fire</td><td>2002-01-11</td><td>2002-01-10</td><td>Other</td><td>01/11/2002 01:47:00 AM</td><td>2000 Block of CALIFORNIA ST</td><td>SF</td><td>94109</td><td>B04</td><td>38</td><td>3362</td><td>3</td><td>3</td><td>3</td><td>false</td><td>null</td><td>1</td><td>CHIEF</td><td>4</td><td>4</td><td>5</td><td>Pacific Heights</td><td>(37.7895840679362, -122.428071912459)</td><td>020110016-D2</td><td>3.0166666666666666</td></tr><tr><td>20110016</td><td>E03</td><td>2003235</td><td>Structure Fire</td><td>2002-01-11</td><td>2002-01-10</td><td>Other</td><td>01/11/2002 01:47:00 AM</td><td>2000 Block of CALIFORNIA ST</td><td>SF</td><td>94109</td><td>B04</td><td>38</td><td>3362</td><td>3</td><td>3</td><td>3</td><td>false</td><td>null</td><td>1</td><td>ENGINE</td><td>7</td><td>4</td><td>5</td><td>Pacific Heights</td><td>(37.7895840679362, -122.428071912459)</td><td>020110016-E03</td><td>2.683333333333333</td></tr><tr><td>20110016</td><td>E38</td><td>2003235</td><td>Structure Fire</td><td>2002-01-11</td><td>2002-01-10</td><td>Other</td><td>01/11/2002 01:51:17 AM</td><td>2000 Block of CALIFORNIA ST</td><td>SF</td><td>94109</td><td>B04</td><td>38</td><td>3362</td><td>3</td><td>3</td><td>3</td><td>false</td><td>null</td><td>1</td><td>ENGINE</td><td>1</td><td>4</td><td>5</td><td>Pacific Heights</td><td>(37.7895840679362, -122.428071912459)</td><td>020110016-E38</td><td>2.1</td></tr><tr><td>20110016</td><td>E41</td><td>2003235</td><td>Structure Fire</td><td>2002-01-11</td><td>2002-01-10</td><td>Other</td><td>01/11/2002 01:47:00 AM</td><td>2000 Block of CALIFORNIA ST</td><td>SF</td><td>94109</td><td>B04</td><td>38</td><td>3362</td><td>3</td><td>3</td><td>3</td><td>false</td><td>null</td><td>1</td><td>ENGINE</td><td>8</td><td>4</td><td>5</td><td>Pacific Heights</td><td>(37.7895840679362, -122.428071912459)</td><td>020110016-E41</td><td>2.716666666666667</td></tr><tr><td>20110016</td><td>M03</td><td>2003235</td><td>Structure Fire</td><td>2002-01-11</td><td>2002-01-10</td><td>Other</td><td>01/11/2002 01:46:38 AM</td><td>2000 Block of CALIFORNIA ST</td><td>SF</td><td>94109</td><td>B04</td><td>38</td><td>3362</td><td>3</td><td>3</td><td>3</td><td>true</td><td>null</td><td>1</td><td>MEDIC</td><td>10</td><td>4</td><td>5</td><td>Pacific Heights</td><td>(37.7895840679362, -122.428071912459)</td><td>020110016-M03</td><td>2.7666666666666666</td></tr><tr><td>20110016</td><td>RS1</td><td>2003235</td><td>Structure Fire</td><td>2002-01-11</td><td>2002-01-10</td><td>Other</td><td>01/11/2002 01:46:57 AM</td><td>2000 Block of CALIFORNIA ST</td><td>SF</td><td>94109</td><td>B04</td><td>38</td><td>3362</td><td>3</td><td>3</td><td>3</td><td>false</td><td>null</td><td>1</td><td>RESCUE SQUAD</td><td>9</td><td>4</td><td>5</td><td>Pacific Heights</td><td>(37.7895840679362, -122.428071912459)</td><td>020110016-RS1</td><td>3.2666666666666666</td></tr></tbody></table></div>"
      ]
     },
     "metadata": {
      "application/vnd.databricks.v1+output": {
       "addedWidgets": {},
       "aggData": [],
       "aggError": "",
       "aggOverflow": false,
       "aggSchema": [],
       "aggSeriesLimitReached": false,
       "aggType": "",
       "arguments": {},
       "columnCustomDisplayInfos": {},
       "data": [
        [
         20110014,
         "M29",
         2003234,
         "Medical Incident",
         "2002-01-11",
         "2002-01-10",
         "Other",
         "01/11/2002 01:58:43 AM",
         "10TH ST/MARKET ST",
         "SF",
         94103,
         "B02",
         "36",
         "2338",
         "1",
         "1",
         2,
         true,
         null,
         1,
         "MEDIC",
         1,
         "2",
         "6",
         "Tenderloin",
         "(37.7765408927183, -122.417501464907)",
         "020110014-M29",
         5.233333333333333
        ],
        [
         20110015,
         "M08",
         2003233,
         "Medical Incident",
         "2002-01-11",
         "2002-01-10",
         "Other",
         "01/11/2002 02:10:17 AM",
         "300 Block of 5TH ST",
         "SF",
         94107,
         "B03",
         "08",
         "2243",
         "1",
         "1",
         2,
         true,
         null,
         1,
         "MEDIC",
         1,
         "3",
         "6",
         "South of Market",
         "(37.7792841462441, -122.402061300134)",
         "020110015-M08",
         3.0833333333333335
        ],
        [
         20110016,
         "B02",
         2003235,
         "Structure Fire",
         "2002-01-11",
         "2002-01-10",
         "Other",
         "01/11/2002 01:47:00 AM",
         "2000 Block of CALIFORNIA ST",
         "SF",
         94109,
         "B04",
         "38",
         "3362",
         "3",
         "3",
         3,
         false,
         null,
         1,
         "CHIEF",
         6,
         "4",
         "5",
         "Pacific Heights",
         "(37.7895840679362, -122.428071912459)",
         "020110016-B02",
         3.05
        ],
        [
         20110016,
         "B04",
         2003235,
         "Structure Fire",
         "2002-01-11",
         "2002-01-10",
         "Other",
         "01/11/2002 01:51:54 AM",
         "2000 Block of CALIFORNIA ST",
         "SF",
         94109,
         "B04",
         "38",
         "3362",
         "3",
         "3",
         3,
         false,
         null,
         1,
         "CHIEF",
         3,
         "4",
         "5",
         "Pacific Heights",
         "(37.7895840679362, -122.428071912459)",
         "020110016-B04",
         2.316666666666667
        ],
        [
         20110016,
         "D2",
         2003235,
         "Structure Fire",
         "2002-01-11",
         "2002-01-10",
         "Other",
         "01/11/2002 01:47:00 AM",
         "2000 Block of CALIFORNIA ST",
         "SF",
         94109,
         "B04",
         "38",
         "3362",
         "3",
         "3",
         3,
         false,
         null,
         1,
         "CHIEF",
         4,
         "4",
         "5",
         "Pacific Heights",
         "(37.7895840679362, -122.428071912459)",
         "020110016-D2",
         3.0166666666666666
        ],
        [
         20110016,
         "E03",
         2003235,
         "Structure Fire",
         "2002-01-11",
         "2002-01-10",
         "Other",
         "01/11/2002 01:47:00 AM",
         "2000 Block of CALIFORNIA ST",
         "SF",
         94109,
         "B04",
         "38",
         "3362",
         "3",
         "3",
         3,
         false,
         null,
         1,
         "ENGINE",
         7,
         "4",
         "5",
         "Pacific Heights",
         "(37.7895840679362, -122.428071912459)",
         "020110016-E03",
         2.683333333333333
        ],
        [
         20110016,
         "E38",
         2003235,
         "Structure Fire",
         "2002-01-11",
         "2002-01-10",
         "Other",
         "01/11/2002 01:51:17 AM",
         "2000 Block of CALIFORNIA ST",
         "SF",
         94109,
         "B04",
         "38",
         "3362",
         "3",
         "3",
         3,
         false,
         null,
         1,
         "ENGINE",
         1,
         "4",
         "5",
         "Pacific Heights",
         "(37.7895840679362, -122.428071912459)",
         "020110016-E38",
         2.1
        ],
        [
         20110016,
         "E41",
         2003235,
         "Structure Fire",
         "2002-01-11",
         "2002-01-10",
         "Other",
         "01/11/2002 01:47:00 AM",
         "2000 Block of CALIFORNIA ST",
         "SF",
         94109,
         "B04",
         "38",
         "3362",
         "3",
         "3",
         3,
         false,
         null,
         1,
         "ENGINE",
         8,
         "4",
         "5",
         "Pacific Heights",
         "(37.7895840679362, -122.428071912459)",
         "020110016-E41",
         2.716666666666667
        ],
        [
         20110016,
         "M03",
         2003235,
         "Structure Fire",
         "2002-01-11",
         "2002-01-10",
         "Other",
         "01/11/2002 01:46:38 AM",
         "2000 Block of CALIFORNIA ST",
         "SF",
         94109,
         "B04",
         "38",
         "3362",
         "3",
         "3",
         3,
         true,
         null,
         1,
         "MEDIC",
         10,
         "4",
         "5",
         "Pacific Heights",
         "(37.7895840679362, -122.428071912459)",
         "020110016-M03",
         2.7666666666666666
        ],
        [
         20110016,
         "RS1",
         2003235,
         "Structure Fire",
         "2002-01-11",
         "2002-01-10",
         "Other",
         "01/11/2002 01:46:57 AM",
         "2000 Block of CALIFORNIA ST",
         "SF",
         94109,
         "B04",
         "38",
         "3362",
         "3",
         "3",
         3,
         false,
         null,
         1,
         "RESCUE SQUAD",
         9,
         "4",
         "5",
         "Pacific Heights",
         "(37.7895840679362, -122.428071912459)",
         "020110016-RS1",
         3.2666666666666666
        ]
       ],
       "datasetInfos": [],
       "dbfsResultPath": null,
       "isJsonSchema": true,
       "metadata": {},
       "overflow": false,
       "plotOptions": {
        "customPlotOptions": {},
        "displayType": "table",
        "pivotAggregation": null,
        "pivotColumns": null,
        "xColumns": null,
        "yColumns": null
       },
       "removedWidgets": [],
       "schema": [
        {
         "metadata": "{}",
         "name": "Call Number",
         "type": "\"integer\""
        },
        {
         "metadata": "{}",
         "name": "Unit ID",
         "type": "\"string\""
        },
        {
         "metadata": "{}",
         "name": "Incident Number",
         "type": "\"integer\""
        },
        {
         "metadata": "{}",
         "name": "CallType",
         "type": "\"string\""
        },
        {
         "metadata": "{\"__detected_date_formats\":\"M/d/yyyy\"}",
         "name": "Call Date",
         "type": "\"date\""
        },
        {
         "metadata": "{\"__detected_date_formats\":\"M/d/yyyy\"}",
         "name": "Watch Date",
         "type": "\"date\""
        },
        {
         "metadata": "{}",
         "name": "Call Final Disposition",
         "type": "\"string\""
        },
        {
         "metadata": "{}",
         "name": "Available DtTm",
         "type": "\"string\""
        },
        {
         "metadata": "{}",
         "name": "Address",
         "type": "\"string\""
        },
        {
         "metadata": "{}",
         "name": "City",
         "type": "\"string\""
        },
        {
         "metadata": "{}",
         "name": "Zipcode of Incident",
         "type": "\"integer\""
        },
        {
         "metadata": "{}",
         "name": "Battalion",
         "type": "\"string\""
        },
        {
         "metadata": "{}",
         "name": "Station Area",
         "type": "\"string\""
        },
        {
         "metadata": "{}",
         "name": "Box",
         "type": "\"string\""
        },
        {
         "metadata": "{}",
         "name": "OrigPriority",
         "type": "\"string\""
        },
        {
         "metadata": "{}",
         "name": "Priority",
         "type": "\"string\""
        },
        {
         "metadata": "{}",
         "name": "Final Priority",
         "type": "\"integer\""
        },
        {
         "metadata": "{}",
         "name": "ALS Unit",
         "type": "\"boolean\""
        },
        {
         "metadata": "{}",
         "name": "Call Type Group",
         "type": "\"string\""
        },
        {
         "metadata": "{}",
         "name": "NumAlarms",
         "type": "\"integer\""
        },
        {
         "metadata": "{}",
         "name": "UnitType",
         "type": "\"string\""
        },
        {
         "metadata": "{}",
         "name": "Unit sequence in call dispatch",
         "type": "\"integer\""
        },
        {
         "metadata": "{}",
         "name": "Fire Prevention District",
         "type": "\"string\""
        },
        {
         "metadata": "{}",
         "name": "Supervisor District",
         "type": "\"string\""
        },
        {
         "metadata": "{}",
         "name": "Neighborhood",
         "type": "\"string\""
        },
        {
         "metadata": "{}",
         "name": "Location",
         "type": "\"string\""
        },
        {
         "metadata": "{}",
         "name": "RowID",
         "type": "\"string\""
        },
        {
         "metadata": "{}",
         "name": "Delay",
         "type": "\"double\""
        }
       ],
       "type": "table"
      }
     },
     "output_type": "display_data"
    }
   ],
   "source": [
    "display(raw_fire_df.limit(10))"
   ]
  },
  {
   "cell_type": "code",
   "execution_count": 0,
   "metadata": {
    "application/vnd.databricks.v1+cell": {
     "cellMetadata": {
      "byteLimit": 2048000,
      "rowLimit": 10000
     },
     "inputWidgets": {},
     "nuid": "ac8165ff-b6ce-45b5-8469-72e9e8d61a3d",
     "showTitle": false,
     "tableResultSettingsMap": {},
     "title": ""
    }
   },
   "outputs": [],
   "source": [
    "#create the view\n",
    "raw_fire_df.createGlobalTempView('df_view')"
   ]
  },
  {
   "cell_type": "code",
   "execution_count": 0,
   "metadata": {
    "application/vnd.databricks.v1+cell": {
     "cellMetadata": {},
     "inputWidgets": {},
     "nuid": "b249d3b8-4e27-4f7c-808f-76fa84564023",
     "showTitle": false,
     "tableResultSettingsMap": {},
     "title": ""
    }
   },
   "outputs": [],
   "source": [
    "#select the view \n",
    "%sql\n",
    "select * from global_temp.df_view"
   ]
  },
  {
   "cell_type": "code",
   "execution_count": 0,
   "metadata": {
    "application/vnd.databricks.v1+cell": {
     "cellMetadata": {
      "byteLimit": 2048000,
      "rowLimit": 10000
     },
     "inputWidgets": {},
     "nuid": "1506cd88-533d-48bd-9d8e-e9af3a8e43ba",
     "showTitle": false,
     "tableResultSettingsMap": {},
     "title": ""
    }
   },
   "outputs": [
    {
     "output_type": "stream",
     "name": "stdout",
     "output_type": "stream",
     "text": [
      "Out[40]: True"
     ]
    }
   ],
   "source": [
    "#drop the view \n",
    "spark.catalog.dropGlobalTempView('df_view')"
   ]
  },
  {
   "cell_type": "markdown",
   "metadata": {
    "application/vnd.databricks.v1+cell": {
     "cellMetadata": {},
     "inputWidgets": {},
     "nuid": "6ce42397-8f3e-4c00-9d1f-1210c16bbb8c",
     "showTitle": false,
     "tableResultSettingsMap": {},
     "title": ""
    }
   },
   "source": [
    "# Spark SQL "
   ]
  },
  {
   "cell_type": "code",
   "execution_count": 0,
   "metadata": {
    "application/vnd.databricks.v1+cell": {
     "cellMetadata": {
      "byteLimit": 2048000,
      "implicitDf": true,
      "rowLimit": 10000
     },
     "inputWidgets": {},
     "nuid": "694a3c22-4afc-4e9d-bb63-0a2c32c38f03",
     "showTitle": false,
     "tableResultSettingsMap": {},
     "title": ""
    }
   },
   "outputs": [
    {
     "output_type": "display_data",
     "data": {
      "text/html": [
       "<style scoped>\n",
       "  .table-result-container {\n",
       "    max-height: 300px;\n",
       "    overflow: auto;\n",
       "  }\n",
       "  table, th, td {\n",
       "    border: 1px solid black;\n",
       "    border-collapse: collapse;\n",
       "  }\n",
       "  th, td {\n",
       "    padding: 5px;\n",
       "  }\n",
       "  th {\n",
       "    text-align: left;\n",
       "  }\n",
       "</style><div class='table-result-container'><table class='table-result'><thead style='background-color: white'><tr></tr></thead><tbody></tbody></table></div>"
      ]
     },
     "metadata": {
      "application/vnd.databricks.v1+output": {
       "addedWidgets": {},
       "aggData": [],
       "aggError": "",
       "aggOverflow": false,
       "aggSchema": [],
       "aggSeriesLimitReached": false,
       "aggType": "",
       "arguments": {},
       "columnCustomDisplayInfos": {},
       "data": [],
       "datasetInfos": [],
       "dbfsResultPath": null,
       "isJsonSchema": true,
       "metadata": {},
       "overflow": false,
       "plotOptions": {
        "customPlotOptions": {},
        "displayType": "table",
        "pivotAggregation": null,
        "pivotColumns": null,
        "xColumns": null,
        "yColumns": null
       },
       "removedWidgets": [],
       "schema": [],
       "type": "table"
      }
     },
     "output_type": "display_data"
    }
   ],
   "source": [
    "%sql\n",
    "drop table if exists demo_db.fire_service_calls_tbl;\n",
    "drop view if exists demo_db;\n"
   ]
  },
  {
   "cell_type": "code",
   "execution_count": 0,
   "metadata": {
    "application/vnd.databricks.v1+cell": {
     "cellMetadata": {
      "byteLimit": 2048000,
      "implicitDf": true,
      "rowLimit": 10000
     },
     "inputWidgets": {},
     "nuid": "70d4a113-31c8-4145-9ad7-5fa5478234c2",
     "showTitle": false,
     "tableResultSettingsMap": {},
     "title": ""
    }
   },
   "outputs": [
    {
     "output_type": "display_data",
     "data": {
      "text/html": [
       "<style scoped>\n",
       "  .table-result-container {\n",
       "    max-height: 300px;\n",
       "    overflow: auto;\n",
       "  }\n",
       "  table, th, td {\n",
       "    border: 1px solid black;\n",
       "    border-collapse: collapse;\n",
       "  }\n",
       "  th, td {\n",
       "    padding: 5px;\n",
       "  }\n",
       "  th {\n",
       "    text-align: left;\n",
       "  }\n",
       "</style><div class='table-result-container'><table class='table-result'><thead style='background-color: white'><tr></tr></thead><tbody></tbody></table></div>"
      ]
     },
     "metadata": {
      "application/vnd.databricks.v1+output": {
       "addedWidgets": {},
       "aggData": [],
       "aggError": "",
       "aggOverflow": false,
       "aggSchema": [],
       "aggSeriesLimitReached": false,
       "aggType": "",
       "arguments": {},
       "columnCustomDisplayInfos": {},
       "data": [],
       "datasetInfos": [],
       "dbfsResultPath": null,
       "isJsonSchema": true,
       "metadata": {},
       "overflow": false,
       "plotOptions": {
        "customPlotOptions": {},
        "displayType": "table",
        "pivotAggregation": null,
        "pivotColumns": null,
        "xColumns": null,
        "yColumns": null
       },
       "removedWidgets": [],
       "schema": [],
       "type": "table"
      }
     },
     "output_type": "display_data"
    }
   ],
   "source": [
    "%sql\n",
    "create database if not exists demo_db"
   ]
  },
  {
   "cell_type": "code",
   "execution_count": 0,
   "metadata": {
    "application/vnd.databricks.v1+cell": {
     "cellMetadata": {
      "byteLimit": 2048000,
      "implicitDf": true,
      "rowLimit": 10000
     },
     "inputWidgets": {},
     "nuid": "693161cb-6dd4-4195-8c1d-5c30490301da",
     "showTitle": false,
     "tableResultSettingsMap": {},
     "title": ""
    }
   },
   "outputs": [
    {
     "output_type": "display_data",
     "data": {
      "text/html": [
       "<style scoped>\n",
       "  .table-result-container {\n",
       "    max-height: 300px;\n",
       "    overflow: auto;\n",
       "  }\n",
       "  table, th, td {\n",
       "    border: 1px solid black;\n",
       "    border-collapse: collapse;\n",
       "  }\n",
       "  th, td {\n",
       "    padding: 5px;\n",
       "  }\n",
       "  th {\n",
       "    text-align: left;\n",
       "  }\n",
       "</style><div class='table-result-container'><table class='table-result'><thead style='background-color: white'><tr></tr></thead><tbody></tbody></table></div>"
      ]
     },
     "metadata": {
      "application/vnd.databricks.v1+output": {
       "addedWidgets": {},
       "aggData": [],
       "aggError": "",
       "aggOverflow": false,
       "aggSchema": [],
       "aggSeriesLimitReached": false,
       "aggType": "",
       "arguments": {},
       "columnCustomDisplayInfos": {},
       "data": [],
       "datasetInfos": [],
       "dbfsResultPath": null,
       "isJsonSchema": true,
       "metadata": {},
       "overflow": false,
       "plotOptions": {
        "customPlotOptions": {},
        "displayType": "table",
        "pivotAggregation": null,
        "pivotColumns": null,
        "xColumns": null,
        "yColumns": null
       },
       "removedWidgets": [],
       "schema": [],
       "type": "table"
      }
     },
     "output_type": "display_data"
    }
   ],
   "source": [
    "%sql\n",
    "create table if not exists demo_db.fire_service_calls_tbl(\n",
    "  CallNumber integer,\n",
    "  UnitID string,\n",
    "  IncidentNumber integer,\n",
    "  CallType string,\n",
    "  CallDate string,\n",
    "  WatchDate string,\n",
    "  CallFinalDisposition string,\n",
    "  AvailableDtTm string,\n",
    "  Address string,\n",
    "  City string,\n",
    "  Zipcode integer,\n",
    "  Battalion string,\n",
    "  StationArea string,\n",
    "  Box string,\n",
    "  OriginalPriority string,\n",
    "  Priority string,\n",
    "  FinalPriority integer,\n",
    "  ALSUnit boolean,\n",
    "  CallTypeGroup string,\n",
    "  NumAlarms integer,\n",
    "  UnitType string,\n",
    "  UnitSequenceInCallDispatch integer,\n",
    "  FirePreventionDistrict string,\n",
    "  SupervisorDistrict string,\n",
    "  Neighborhood string,\n",
    "  Location string,\n",
    "  RowID string,\n",
    "  Delay float\n",
    ") using parquet\n",
    "\n",
    "-- using parquet measn using parquet format"
   ]
  },
  {
   "cell_type": "code",
   "execution_count": 0,
   "metadata": {
    "application/vnd.databricks.v1+cell": {
     "cellMetadata": {
      "byteLimit": 2048000,
      "implicitDf": true,
      "rowLimit": 10000
     },
     "inputWidgets": {},
     "nuid": "08bf8a06-48f1-44ab-8bcc-0f174b3001ae",
     "showTitle": false,
     "tableResultSettingsMap": {},
     "title": ""
    }
   },
   "outputs": [
    {
     "output_type": "display_data",
     "data": {
      "text/html": [
       "<style scoped>\n",
       "  .table-result-container {\n",
       "    max-height: 300px;\n",
       "    overflow: auto;\n",
       "  }\n",
       "  table, th, td {\n",
       "    border: 1px solid black;\n",
       "    border-collapse: collapse;\n",
       "  }\n",
       "  th, td {\n",
       "    padding: 5px;\n",
       "  }\n",
       "  th {\n",
       "    text-align: left;\n",
       "  }\n",
       "</style><div class='table-result-container'><table class='table-result'><thead style='background-color: white'><tr></tr></thead><tbody></tbody></table></div>"
      ]
     },
     "metadata": {
      "application/vnd.databricks.v1+output": {
       "addedWidgets": {},
       "aggData": [],
       "aggError": "",
       "aggOverflow": false,
       "aggSchema": [],
       "aggSeriesLimitReached": false,
       "aggType": "",
       "arguments": {},
       "columnCustomDisplayInfos": {},
       "data": [],
       "datasetInfos": [],
       "dbfsResultPath": null,
       "isJsonSchema": true,
       "metadata": {},
       "overflow": false,
       "plotOptions": {
        "customPlotOptions": {},
        "displayType": "table",
        "pivotAggregation": null,
        "pivotColumns": null,
        "xColumns": null,
        "yColumns": null
       },
       "removedWidgets": [],
       "schema": [],
       "type": "table"
      }
     },
     "output_type": "display_data"
    }
   ],
   "source": [
    "%sql\n",
    "insert into demo_db.fire_service_calls_tbl \n",
    "values(1234, null, null, null, null, null, null, null, null, null, null, null, null, null, null, null, null, null, null, \n",
    "null, null, null, null, null, null, null, null, null)"
   ]
  },
  {
   "cell_type": "code",
   "execution_count": 0,
   "metadata": {
    "application/vnd.databricks.v1+cell": {
     "cellMetadata": {
      "byteLimit": 2048000,
      "implicitDf": true,
      "rowLimit": 10000
     },
     "inputWidgets": {},
     "nuid": "2f82a54c-85d0-4ab4-a634-97f469e82922",
     "showTitle": false,
     "tableResultSettingsMap": {},
     "title": ""
    }
   },
   "outputs": [
    {
     "output_type": "display_data",
     "data": {
      "text/html": [
       "<style scoped>\n",
       "  .table-result-container {\n",
       "    max-height: 300px;\n",
       "    overflow: auto;\n",
       "  }\n",
       "  table, th, td {\n",
       "    border: 1px solid black;\n",
       "    border-collapse: collapse;\n",
       "  }\n",
       "  th, td {\n",
       "    padding: 5px;\n",
       "  }\n",
       "  th {\n",
       "    text-align: left;\n",
       "  }\n",
       "</style><div class='table-result-container'><table class='table-result'><thead style='background-color: white'><tr><th>CallNumber</th><th>UnitID</th><th>IncidentNumber</th><th>CallType</th><th>CallDate</th><th>WatchDate</th><th>CallFinalDisposition</th><th>AvailableDtTm</th><th>Address</th><th>City</th><th>Zipcode</th><th>Battalion</th><th>StationArea</th><th>Box</th><th>OriginalPriority</th><th>Priority</th><th>FinalPriority</th><th>ALSUnit</th><th>CallTypeGroup</th><th>NumAlarms</th><th>UnitType</th><th>UnitSequenceInCallDispatch</th><th>FirePreventionDistrict</th><th>SupervisorDistrict</th><th>Neighborhood</th><th>Location</th><th>RowID</th><th>Delay</th></tr></thead><tbody><tr><td>1234</td><td>null</td><td>null</td><td>null</td><td>null</td><td>null</td><td>null</td><td>null</td><td>null</td><td>null</td><td>null</td><td>null</td><td>null</td><td>null</td><td>null</td><td>null</td><td>null</td><td>null</td><td>null</td><td>null</td><td>null</td><td>null</td><td>null</td><td>null</td><td>null</td><td>null</td><td>null</td><td>null</td></tr></tbody></table></div>"
      ]
     },
     "metadata": {
      "application/vnd.databricks.v1+output": {
       "addedWidgets": {},
       "aggData": [],
       "aggError": "",
       "aggOverflow": false,
       "aggSchema": [],
       "aggSeriesLimitReached": false,
       "aggType": "",
       "arguments": {},
       "columnCustomDisplayInfos": {},
       "data": [
        [
         1234,
         null,
         null,
         null,
         null,
         null,
         null,
         null,
         null,
         null,
         null,
         null,
         null,
         null,
         null,
         null,
         null,
         null,
         null,
         null,
         null,
         null,
         null,
         null,
         null,
         null,
         null,
         null
        ]
       ],
       "datasetInfos": [],
       "dbfsResultPath": null,
       "isJsonSchema": true,
       "metadata": {},
       "overflow": false,
       "plotOptions": {
        "customPlotOptions": {},
        "displayType": "table",
        "pivotAggregation": null,
        "pivotColumns": null,
        "xColumns": null,
        "yColumns": null
       },
       "removedWidgets": [],
       "schema": [
        {
         "metadata": "{}",
         "name": "CallNumber",
         "type": "\"integer\""
        },
        {
         "metadata": "{}",
         "name": "UnitID",
         "type": "\"string\""
        },
        {
         "metadata": "{}",
         "name": "IncidentNumber",
         "type": "\"integer\""
        },
        {
         "metadata": "{}",
         "name": "CallType",
         "type": "\"string\""
        },
        {
         "metadata": "{}",
         "name": "CallDate",
         "type": "\"string\""
        },
        {
         "metadata": "{}",
         "name": "WatchDate",
         "type": "\"string\""
        },
        {
         "metadata": "{}",
         "name": "CallFinalDisposition",
         "type": "\"string\""
        },
        {
         "metadata": "{}",
         "name": "AvailableDtTm",
         "type": "\"string\""
        },
        {
         "metadata": "{}",
         "name": "Address",
         "type": "\"string\""
        },
        {
         "metadata": "{}",
         "name": "City",
         "type": "\"string\""
        },
        {
         "metadata": "{}",
         "name": "Zipcode",
         "type": "\"integer\""
        },
        {
         "metadata": "{}",
         "name": "Battalion",
         "type": "\"string\""
        },
        {
         "metadata": "{}",
         "name": "StationArea",
         "type": "\"string\""
        },
        {
         "metadata": "{}",
         "name": "Box",
         "type": "\"string\""
        },
        {
         "metadata": "{}",
         "name": "OriginalPriority",
         "type": "\"string\""
        },
        {
         "metadata": "{}",
         "name": "Priority",
         "type": "\"string\""
        },
        {
         "metadata": "{}",
         "name": "FinalPriority",
         "type": "\"integer\""
        },
        {
         "metadata": "{}",
         "name": "ALSUnit",
         "type": "\"boolean\""
        },
        {
         "metadata": "{}",
         "name": "CallTypeGroup",
         "type": "\"string\""
        },
        {
         "metadata": "{}",
         "name": "NumAlarms",
         "type": "\"integer\""
        },
        {
         "metadata": "{}",
         "name": "UnitType",
         "type": "\"string\""
        },
        {
         "metadata": "{}",
         "name": "UnitSequenceInCallDispatch",
         "type": "\"integer\""
        },
        {
         "metadata": "{}",
         "name": "FirePreventionDistrict",
         "type": "\"string\""
        },
        {
         "metadata": "{}",
         "name": "SupervisorDistrict",
         "type": "\"string\""
        },
        {
         "metadata": "{}",
         "name": "Neighborhood",
         "type": "\"string\""
        },
        {
         "metadata": "{}",
         "name": "Location",
         "type": "\"string\""
        },
        {
         "metadata": "{}",
         "name": "RowID",
         "type": "\"string\""
        },
        {
         "metadata": "{}",
         "name": "Delay",
         "type": "\"float\""
        }
       ],
       "type": "table"
      }
     },
     "output_type": "display_data"
    }
   ],
   "source": [
    "%sql\n",
    "select * from demo_db.fire_service_calls_tbl"
   ]
  },
  {
   "cell_type": "code",
   "execution_count": 0,
   "metadata": {
    "application/vnd.databricks.v1+cell": {
     "cellMetadata": {
      "byteLimit": 2048000,
      "implicitDf": true,
      "rowLimit": 10000
     },
     "inputWidgets": {},
     "nuid": "5061dbc7-c507-464d-9259-7aafcdbaaa08",
     "showTitle": false,
     "tableResultSettingsMap": {},
     "title": ""
    }
   },
   "outputs": [
    {
     "output_type": "display_data",
     "data": {
      "text/html": [
       "<style scoped>\n",
       "  .table-result-container {\n",
       "    max-height: 300px;\n",
       "    overflow: auto;\n",
       "  }\n",
       "  table, th, td {\n",
       "    border: 1px solid black;\n",
       "    border-collapse: collapse;\n",
       "  }\n",
       "  th, td {\n",
       "    padding: 5px;\n",
       "  }\n",
       "  th {\n",
       "    text-align: left;\n",
       "  }\n",
       "</style><div class='table-result-container'><table class='table-result'><thead style='background-color: white'><tr></tr></thead><tbody></tbody></table></div>"
      ]
     },
     "metadata": {
      "application/vnd.databricks.v1+output": {
       "addedWidgets": {},
       "aggData": [],
       "aggError": "",
       "aggOverflow": false,
       "aggSchema": [],
       "aggSeriesLimitReached": false,
       "aggType": "",
       "arguments": {},
       "columnCustomDisplayInfos": {},
       "data": [],
       "datasetInfos": [],
       "dbfsResultPath": null,
       "isJsonSchema": true,
       "metadata": {},
       "overflow": false,
       "plotOptions": {
        "customPlotOptions": {},
        "displayType": "table",
        "pivotAggregation": null,
        "pivotColumns": null,
        "xColumns": null,
        "yColumns": null
       },
       "removedWidgets": [],
       "schema": [],
       "type": "table"
      }
     },
     "output_type": "display_data"
    }
   ],
   "source": [
    "%sql\n",
    "truncate table demo_db.fire_service_calls_tbl"
   ]
  },
  {
   "cell_type": "code",
   "execution_count": 0,
   "metadata": {
    "application/vnd.databricks.v1+cell": {
     "cellMetadata": {
      "byteLimit": 2048000,
      "implicitDf": true,
      "rowLimit": 10000
     },
     "inputWidgets": {},
     "nuid": "09129c8c-d5ae-40d7-8bd5-94a443f6f89a",
     "showTitle": false,
     "tableResultSettingsMap": {},
     "title": ""
    }
   },
   "outputs": [
    {
     "output_type": "display_data",
     "data": {
      "text/html": [
       "<style scoped>\n",
       "  .table-result-container {\n",
       "    max-height: 300px;\n",
       "    overflow: auto;\n",
       "  }\n",
       "  table, th, td {\n",
       "    border: 1px solid black;\n",
       "    border-collapse: collapse;\n",
       "  }\n",
       "  th, td {\n",
       "    padding: 5px;\n",
       "  }\n",
       "  th {\n",
       "    text-align: left;\n",
       "  }\n",
       "</style><div class='table-result-container'><table class='table-result'><thead style='background-color: white'><tr></tr></thead><tbody></tbody></table></div>"
      ]
     },
     "metadata": {
      "application/vnd.databricks.v1+output": {
       "addedWidgets": {},
       "aggData": [],
       "aggError": "",
       "aggOverflow": false,
       "aggSchema": [],
       "aggSeriesLimitReached": false,
       "aggType": "",
       "arguments": {},
       "columnCustomDisplayInfos": {},
       "data": [],
       "datasetInfos": [],
       "dbfsResultPath": null,
       "isJsonSchema": true,
       "metadata": {},
       "overflow": false,
       "plotOptions": {
        "customPlotOptions": {},
        "displayType": "table",
        "pivotAggregation": null,
        "pivotColumns": null,
        "xColumns": null,
        "yColumns": null
       },
       "removedWidgets": [],
       "schema": [],
       "type": "table"
      }
     },
     "output_type": "display_data"
    }
   ],
   "source": [
    "%sql\n",
    "insert into demo_db.fire_service_calls_tbl\n",
    "select * from global_temp.df_view\n",
    "\n",
    "--  the view created previous"
   ]
  },
  {
   "cell_type": "code",
   "execution_count": 0,
   "metadata": {
    "application/vnd.databricks.v1+cell": {
     "cellMetadata": {
      "byteLimit": 2048000,
      "implicitDf": true,
      "rowLimit": 10000
     },
     "inputWidgets": {},
     "nuid": "e1c97756-460c-4a2c-a3a8-8e179e23b0f0",
     "showTitle": false,
     "tableResultSettingsMap": {},
     "title": ""
    }
   },
   "outputs": [],
   "source": [
    "%sql\n",
    "select * from demo_db.fire_service_calls_tbl"
   ]
  },
  {
   "cell_type": "markdown",
   "metadata": {
    "application/vnd.databricks.v1+cell": {
     "cellMetadata": {},
     "inputWidgets": {},
     "nuid": "c06c6184-0534-41a2-9ed0-ad3155f5ffa2",
     "showTitle": false,
     "tableResultSettingsMap": {},
     "title": ""
    }
   },
   "source": [
    "#02 Working With dataframe"
   ]
  },
  {
   "cell_type": "code",
   "execution_count": 0,
   "metadata": {
    "application/vnd.databricks.v1+cell": {
     "cellMetadata": {
      "byteLimit": 2048000,
      "rowLimit": 10000
     },
     "inputWidgets": {},
     "nuid": "3019ceeb-2668-4b5b-9958-9b40d9d47cca",
     "showTitle": false,
     "tableResultSettingsMap": {},
     "title": ""
    }
   },
   "outputs": [],
   "source": [
    "from pyspark.sql.functions import *"
   ]
  },
  {
   "cell_type": "code",
   "execution_count": 0,
   "metadata": {
    "application/vnd.databricks.v1+cell": {
     "cellMetadata": {
      "byteLimit": 2048000,
      "rowLimit": 10000
     },
     "inputWidgets": {},
     "nuid": "137bbd15-4701-411c-af66-92eac263c97e",
     "showTitle": false,
     "tableResultSettingsMap": {},
     "title": ""
    }
   },
   "outputs": [],
   "source": [
    "raw_fire_df = spark.read \\\n",
    "                    .format('csv')\\\n",
    "                    .option('header','true') \\\n",
    "                    .option('inferSchema','true') \\\n",
    "                    .load('/databricks-datasets/learning-spark-v2/sf-fire/sf-fire-calls.csv')"
   ]
  },
  {
   "cell_type": "code",
   "execution_count": 0,
   "metadata": {
    "application/vnd.databricks.v1+cell": {
     "cellMetadata": {
      "byteLimit": 2048000,
      "rowLimit": 10000
     },
     "inputWidgets": {},
     "nuid": "d08d1f00-f42f-44a7-9b49-2fb71b8077ad",
     "showTitle": false,
     "tableResultSettingsMap": {},
     "title": ""
    }
   },
   "outputs": [],
   "source": [
    "#rename \n",
    "rename_df = raw_fire_df \\\n",
    "                .withColumnRenamed('Call Number','CallNumber')\\\n",
    "                    .withColumnRenamed(\"Unit ID\", \"UnitID\") \\\n",
    "                    .withColumnRenamed(\"Incident Number\", \"IncidentNumber\") \\\n",
    "                    .withColumnRenamed(\"Call Date\", \"CallDate\") \\\n",
    "                    .withColumnRenamed(\"Watch Date\", \"WatchDate\") \\\n",
    "                    .withColumnRenamed(\"Call Final Disposition\", \"CallFinalDisposition\") \\\n",
    "                    .withColumnRenamed(\"Available DtTm\", \"AvailableDtTm\") \\\n",
    "                    .withColumnRenamed(\"Zipcode of Incident\", \"Zipcode\") \\\n",
    "                    .withColumnRenamed(\"Station Area\", \"StationArea\") \\\n",
    "                    .withColumnRenamed(\"Final Priority\", \"FinalPriority\") \\\n",
    "                    .withColumnRenamed(\"ALS Unit\", \"ALSUnit\") \\\n",
    "                    .withColumnRenamed(\"Call Type Group\", \"CallTypeGroup\") \\\n",
    "                    .withColumnRenamed(\"Unit sequence in call dispatch\", \"UnitSequenceInCallDispatch\") \\\n",
    "                    .withColumnRenamed(\"Fire Prevention District\", \"FirePreventionDistrict\") \\\n",
    "                    .withColumnRenamed(\"Supervisor District\", \"SupervisorDistrict\")"
   ]
  },
  {
   "cell_type": "code",
   "execution_count": 0,
   "metadata": {
    "application/vnd.databricks.v1+cell": {
     "cellMetadata": {
      "byteLimit": 2048000,
      "rowLimit": 10000
     },
     "inputWidgets": {},
     "nuid": "427eb301-b2e2-49a2-aa46-06b3ef7b17e3",
     "showTitle": false,
     "tableResultSettingsMap": {},
     "title": ""
    }
   },
   "outputs": [
    {
     "output_type": "display_data",
     "data": {
      "text/html": [
       "<style scoped>\n",
       "  .table-result-container {\n",
       "    max-height: 300px;\n",
       "    overflow: auto;\n",
       "  }\n",
       "  table, th, td {\n",
       "    border: 1px solid black;\n",
       "    border-collapse: collapse;\n",
       "  }\n",
       "  th, td {\n",
       "    padding: 5px;\n",
       "  }\n",
       "  th {\n",
       "    text-align: left;\n",
       "  }\n",
       "</style><div class='table-result-container'><table class='table-result'><thead style='background-color: white'><tr><th>CallNumber</th><th>UnitID</th><th>IncidentNumber</th><th>CallType</th><th>CallDate</th><th>WatchDate</th><th>CallFinalDisposition</th><th>AvailableDtTm</th><th>Address</th><th>City</th><th>Zipcode</th><th>Battalion</th><th>StationArea</th><th>Box</th><th>OrigPriority</th><th>Priority</th><th>FinalPriority</th><th>ALSUnit</th><th>CallTypeGroup</th><th>NumAlarms</th><th>UnitType</th><th>UnitSequenceInCallDispatch</th><th>FirePreventionDistrict</th><th>SupervisorDistrict</th><th>Neighborhood</th><th>Location</th><th>RowID</th><th>Delay</th></tr></thead><tbody><tr><td>20110014</td><td>M29</td><td>2003234</td><td>Medical Incident</td><td>2002-01-11</td><td>2002-01-10</td><td>Other</td><td>01/11/2002 01:58:43 AM</td><td>10TH ST/MARKET ST</td><td>SF</td><td>94103</td><td>B02</td><td>36</td><td>2338</td><td>1</td><td>1</td><td>2</td><td>true</td><td>null</td><td>1</td><td>MEDIC</td><td>1</td><td>2</td><td>6</td><td>Tenderloin</td><td>(37.7765408927183, -122.417501464907)</td><td>020110014-M29</td><td>5.233333333333333</td></tr><tr><td>20110015</td><td>M08</td><td>2003233</td><td>Medical Incident</td><td>2002-01-11</td><td>2002-01-10</td><td>Other</td><td>01/11/2002 02:10:17 AM</td><td>300 Block of 5TH ST</td><td>SF</td><td>94107</td><td>B03</td><td>08</td><td>2243</td><td>1</td><td>1</td><td>2</td><td>true</td><td>null</td><td>1</td><td>MEDIC</td><td>1</td><td>3</td><td>6</td><td>South of Market</td><td>(37.7792841462441, -122.402061300134)</td><td>020110015-M08</td><td>3.0833333333333335</td></tr><tr><td>20110016</td><td>B02</td><td>2003235</td><td>Structure Fire</td><td>2002-01-11</td><td>2002-01-10</td><td>Other</td><td>01/11/2002 01:47:00 AM</td><td>2000 Block of CALIFORNIA ST</td><td>SF</td><td>94109</td><td>B04</td><td>38</td><td>3362</td><td>3</td><td>3</td><td>3</td><td>false</td><td>null</td><td>1</td><td>CHIEF</td><td>6</td><td>4</td><td>5</td><td>Pacific Heights</td><td>(37.7895840679362, -122.428071912459)</td><td>020110016-B02</td><td>3.05</td></tr><tr><td>20110016</td><td>B04</td><td>2003235</td><td>Structure Fire</td><td>2002-01-11</td><td>2002-01-10</td><td>Other</td><td>01/11/2002 01:51:54 AM</td><td>2000 Block of CALIFORNIA ST</td><td>SF</td><td>94109</td><td>B04</td><td>38</td><td>3362</td><td>3</td><td>3</td><td>3</td><td>false</td><td>null</td><td>1</td><td>CHIEF</td><td>3</td><td>4</td><td>5</td><td>Pacific Heights</td><td>(37.7895840679362, -122.428071912459)</td><td>020110016-B04</td><td>2.316666666666667</td></tr><tr><td>20110016</td><td>D2</td><td>2003235</td><td>Structure Fire</td><td>2002-01-11</td><td>2002-01-10</td><td>Other</td><td>01/11/2002 01:47:00 AM</td><td>2000 Block of CALIFORNIA ST</td><td>SF</td><td>94109</td><td>B04</td><td>38</td><td>3362</td><td>3</td><td>3</td><td>3</td><td>false</td><td>null</td><td>1</td><td>CHIEF</td><td>4</td><td>4</td><td>5</td><td>Pacific Heights</td><td>(37.7895840679362, -122.428071912459)</td><td>020110016-D2</td><td>3.0166666666666666</td></tr><tr><td>20110016</td><td>E03</td><td>2003235</td><td>Structure Fire</td><td>2002-01-11</td><td>2002-01-10</td><td>Other</td><td>01/11/2002 01:47:00 AM</td><td>2000 Block of CALIFORNIA ST</td><td>SF</td><td>94109</td><td>B04</td><td>38</td><td>3362</td><td>3</td><td>3</td><td>3</td><td>false</td><td>null</td><td>1</td><td>ENGINE</td><td>7</td><td>4</td><td>5</td><td>Pacific Heights</td><td>(37.7895840679362, -122.428071912459)</td><td>020110016-E03</td><td>2.683333333333333</td></tr><tr><td>20110016</td><td>E38</td><td>2003235</td><td>Structure Fire</td><td>2002-01-11</td><td>2002-01-10</td><td>Other</td><td>01/11/2002 01:51:17 AM</td><td>2000 Block of CALIFORNIA ST</td><td>SF</td><td>94109</td><td>B04</td><td>38</td><td>3362</td><td>3</td><td>3</td><td>3</td><td>false</td><td>null</td><td>1</td><td>ENGINE</td><td>1</td><td>4</td><td>5</td><td>Pacific Heights</td><td>(37.7895840679362, -122.428071912459)</td><td>020110016-E38</td><td>2.1</td></tr><tr><td>20110016</td><td>E41</td><td>2003235</td><td>Structure Fire</td><td>2002-01-11</td><td>2002-01-10</td><td>Other</td><td>01/11/2002 01:47:00 AM</td><td>2000 Block of CALIFORNIA ST</td><td>SF</td><td>94109</td><td>B04</td><td>38</td><td>3362</td><td>3</td><td>3</td><td>3</td><td>false</td><td>null</td><td>1</td><td>ENGINE</td><td>8</td><td>4</td><td>5</td><td>Pacific Heights</td><td>(37.7895840679362, -122.428071912459)</td><td>020110016-E41</td><td>2.716666666666667</td></tr><tr><td>20110016</td><td>M03</td><td>2003235</td><td>Structure Fire</td><td>2002-01-11</td><td>2002-01-10</td><td>Other</td><td>01/11/2002 01:46:38 AM</td><td>2000 Block of CALIFORNIA ST</td><td>SF</td><td>94109</td><td>B04</td><td>38</td><td>3362</td><td>3</td><td>3</td><td>3</td><td>true</td><td>null</td><td>1</td><td>MEDIC</td><td>10</td><td>4</td><td>5</td><td>Pacific Heights</td><td>(37.7895840679362, -122.428071912459)</td><td>020110016-M03</td><td>2.7666666666666666</td></tr><tr><td>20110016</td><td>RS1</td><td>2003235</td><td>Structure Fire</td><td>2002-01-11</td><td>2002-01-10</td><td>Other</td><td>01/11/2002 01:46:57 AM</td><td>2000 Block of CALIFORNIA ST</td><td>SF</td><td>94109</td><td>B04</td><td>38</td><td>3362</td><td>3</td><td>3</td><td>3</td><td>false</td><td>null</td><td>1</td><td>RESCUE SQUAD</td><td>9</td><td>4</td><td>5</td><td>Pacific Heights</td><td>(37.7895840679362, -122.428071912459)</td><td>020110016-RS1</td><td>3.2666666666666666</td></tr></tbody></table></div>"
      ]
     },
     "metadata": {
      "application/vnd.databricks.v1+output": {
       "addedWidgets": {},
       "aggData": [],
       "aggError": "",
       "aggOverflow": false,
       "aggSchema": [],
       "aggSeriesLimitReached": false,
       "aggType": "",
       "arguments": {},
       "columnCustomDisplayInfos": {},
       "data": [
        [
         20110014,
         "M29",
         2003234,
         "Medical Incident",
         "2002-01-11",
         "2002-01-10",
         "Other",
         "01/11/2002 01:58:43 AM",
         "10TH ST/MARKET ST",
         "SF",
         94103,
         "B02",
         "36",
         "2338",
         "1",
         "1",
         2,
         true,
         null,
         1,
         "MEDIC",
         1,
         "2",
         "6",
         "Tenderloin",
         "(37.7765408927183, -122.417501464907)",
         "020110014-M29",
         5.233333333333333
        ],
        [
         20110015,
         "M08",
         2003233,
         "Medical Incident",
         "2002-01-11",
         "2002-01-10",
         "Other",
         "01/11/2002 02:10:17 AM",
         "300 Block of 5TH ST",
         "SF",
         94107,
         "B03",
         "08",
         "2243",
         "1",
         "1",
         2,
         true,
         null,
         1,
         "MEDIC",
         1,
         "3",
         "6",
         "South of Market",
         "(37.7792841462441, -122.402061300134)",
         "020110015-M08",
         3.0833333333333335
        ],
        [
         20110016,
         "B02",
         2003235,
         "Structure Fire",
         "2002-01-11",
         "2002-01-10",
         "Other",
         "01/11/2002 01:47:00 AM",
         "2000 Block of CALIFORNIA ST",
         "SF",
         94109,
         "B04",
         "38",
         "3362",
         "3",
         "3",
         3,
         false,
         null,
         1,
         "CHIEF",
         6,
         "4",
         "5",
         "Pacific Heights",
         "(37.7895840679362, -122.428071912459)",
         "020110016-B02",
         3.05
        ],
        [
         20110016,
         "B04",
         2003235,
         "Structure Fire",
         "2002-01-11",
         "2002-01-10",
         "Other",
         "01/11/2002 01:51:54 AM",
         "2000 Block of CALIFORNIA ST",
         "SF",
         94109,
         "B04",
         "38",
         "3362",
         "3",
         "3",
         3,
         false,
         null,
         1,
         "CHIEF",
         3,
         "4",
         "5",
         "Pacific Heights",
         "(37.7895840679362, -122.428071912459)",
         "020110016-B04",
         2.316666666666667
        ],
        [
         20110016,
         "D2",
         2003235,
         "Structure Fire",
         "2002-01-11",
         "2002-01-10",
         "Other",
         "01/11/2002 01:47:00 AM",
         "2000 Block of CALIFORNIA ST",
         "SF",
         94109,
         "B04",
         "38",
         "3362",
         "3",
         "3",
         3,
         false,
         null,
         1,
         "CHIEF",
         4,
         "4",
         "5",
         "Pacific Heights",
         "(37.7895840679362, -122.428071912459)",
         "020110016-D2",
         3.0166666666666666
        ],
        [
         20110016,
         "E03",
         2003235,
         "Structure Fire",
         "2002-01-11",
         "2002-01-10",
         "Other",
         "01/11/2002 01:47:00 AM",
         "2000 Block of CALIFORNIA ST",
         "SF",
         94109,
         "B04",
         "38",
         "3362",
         "3",
         "3",
         3,
         false,
         null,
         1,
         "ENGINE",
         7,
         "4",
         "5",
         "Pacific Heights",
         "(37.7895840679362, -122.428071912459)",
         "020110016-E03",
         2.683333333333333
        ],
        [
         20110016,
         "E38",
         2003235,
         "Structure Fire",
         "2002-01-11",
         "2002-01-10",
         "Other",
         "01/11/2002 01:51:17 AM",
         "2000 Block of CALIFORNIA ST",
         "SF",
         94109,
         "B04",
         "38",
         "3362",
         "3",
         "3",
         3,
         false,
         null,
         1,
         "ENGINE",
         1,
         "4",
         "5",
         "Pacific Heights",
         "(37.7895840679362, -122.428071912459)",
         "020110016-E38",
         2.1
        ],
        [
         20110016,
         "E41",
         2003235,
         "Structure Fire",
         "2002-01-11",
         "2002-01-10",
         "Other",
         "01/11/2002 01:47:00 AM",
         "2000 Block of CALIFORNIA ST",
         "SF",
         94109,
         "B04",
         "38",
         "3362",
         "3",
         "3",
         3,
         false,
         null,
         1,
         "ENGINE",
         8,
         "4",
         "5",
         "Pacific Heights",
         "(37.7895840679362, -122.428071912459)",
         "020110016-E41",
         2.716666666666667
        ],
        [
         20110016,
         "M03",
         2003235,
         "Structure Fire",
         "2002-01-11",
         "2002-01-10",
         "Other",
         "01/11/2002 01:46:38 AM",
         "2000 Block of CALIFORNIA ST",
         "SF",
         94109,
         "B04",
         "38",
         "3362",
         "3",
         "3",
         3,
         true,
         null,
         1,
         "MEDIC",
         10,
         "4",
         "5",
         "Pacific Heights",
         "(37.7895840679362, -122.428071912459)",
         "020110016-M03",
         2.7666666666666666
        ],
        [
         20110016,
         "RS1",
         2003235,
         "Structure Fire",
         "2002-01-11",
         "2002-01-10",
         "Other",
         "01/11/2002 01:46:57 AM",
         "2000 Block of CALIFORNIA ST",
         "SF",
         94109,
         "B04",
         "38",
         "3362",
         "3",
         "3",
         3,
         false,
         null,
         1,
         "RESCUE SQUAD",
         9,
         "4",
         "5",
         "Pacific Heights",
         "(37.7895840679362, -122.428071912459)",
         "020110016-RS1",
         3.2666666666666666
        ]
       ],
       "datasetInfos": [],
       "dbfsResultPath": null,
       "isJsonSchema": true,
       "metadata": {},
       "overflow": false,
       "plotOptions": {
        "customPlotOptions": {},
        "displayType": "table",
        "pivotAggregation": null,
        "pivotColumns": null,
        "xColumns": null,
        "yColumns": null
       },
       "removedWidgets": [],
       "schema": [
        {
         "metadata": "{}",
         "name": "CallNumber",
         "type": "\"integer\""
        },
        {
         "metadata": "{}",
         "name": "UnitID",
         "type": "\"string\""
        },
        {
         "metadata": "{}",
         "name": "IncidentNumber",
         "type": "\"integer\""
        },
        {
         "metadata": "{}",
         "name": "CallType",
         "type": "\"string\""
        },
        {
         "metadata": "{\"__detected_date_formats\":\"M/d/yyyy\"}",
         "name": "CallDate",
         "type": "\"date\""
        },
        {
         "metadata": "{\"__detected_date_formats\":\"M/d/yyyy\"}",
         "name": "WatchDate",
         "type": "\"date\""
        },
        {
         "metadata": "{}",
         "name": "CallFinalDisposition",
         "type": "\"string\""
        },
        {
         "metadata": "{}",
         "name": "AvailableDtTm",
         "type": "\"string\""
        },
        {
         "metadata": "{}",
         "name": "Address",
         "type": "\"string\""
        },
        {
         "metadata": "{}",
         "name": "City",
         "type": "\"string\""
        },
        {
         "metadata": "{}",
         "name": "Zipcode",
         "type": "\"integer\""
        },
        {
         "metadata": "{}",
         "name": "Battalion",
         "type": "\"string\""
        },
        {
         "metadata": "{}",
         "name": "StationArea",
         "type": "\"string\""
        },
        {
         "metadata": "{}",
         "name": "Box",
         "type": "\"string\""
        },
        {
         "metadata": "{}",
         "name": "OrigPriority",
         "type": "\"string\""
        },
        {
         "metadata": "{}",
         "name": "Priority",
         "type": "\"string\""
        },
        {
         "metadata": "{}",
         "name": "FinalPriority",
         "type": "\"integer\""
        },
        {
         "metadata": "{}",
         "name": "ALSUnit",
         "type": "\"boolean\""
        },
        {
         "metadata": "{}",
         "name": "CallTypeGroup",
         "type": "\"string\""
        },
        {
         "metadata": "{}",
         "name": "NumAlarms",
         "type": "\"integer\""
        },
        {
         "metadata": "{}",
         "name": "UnitType",
         "type": "\"string\""
        },
        {
         "metadata": "{}",
         "name": "UnitSequenceInCallDispatch",
         "type": "\"integer\""
        },
        {
         "metadata": "{}",
         "name": "FirePreventionDistrict",
         "type": "\"string\""
        },
        {
         "metadata": "{}",
         "name": "SupervisorDistrict",
         "type": "\"string\""
        },
        {
         "metadata": "{}",
         "name": "Neighborhood",
         "type": "\"string\""
        },
        {
         "metadata": "{}",
         "name": "Location",
         "type": "\"string\""
        },
        {
         "metadata": "{}",
         "name": "RowID",
         "type": "\"string\""
        },
        {
         "metadata": "{}",
         "name": "Delay",
         "type": "\"double\""
        }
       ],
       "type": "table"
      }
     },
     "output_type": "display_data"
    }
   ],
   "source": [
    "display(rename_df.limit(10))"
   ]
  },
  {
   "cell_type": "code",
   "execution_count": 0,
   "metadata": {
    "application/vnd.databricks.v1+cell": {
     "cellMetadata": {
      "byteLimit": 2048000,
      "rowLimit": 10000
     },
     "inputWidgets": {},
     "nuid": "ba333f76-5830-44af-ad31-1890b68194d4",
     "showTitle": false,
     "tableResultSettingsMap": {},
     "title": ""
    }
   },
   "outputs": [
    {
     "output_type": "stream",
     "name": "stdout",
     "output_type": "stream",
     "text": [
      "root\n |-- CallNumber: integer (nullable = true)\n |-- UnitID: string (nullable = true)\n |-- IncidentNumber: integer (nullable = true)\n |-- CallType: string (nullable = true)\n |-- CallDate: date (nullable = true)\n |-- WatchDate: date (nullable = true)\n |-- CallFinalDisposition: string (nullable = true)\n |-- AvailableDtTm: string (nullable = true)\n |-- Address: string (nullable = true)\n |-- City: string (nullable = true)\n |-- Zipcode: integer (nullable = true)\n |-- Battalion: string (nullable = true)\n |-- StationArea: string (nullable = true)\n |-- Box: string (nullable = true)\n |-- OrigPriority: string (nullable = true)\n |-- Priority: string (nullable = true)\n |-- FinalPriority: integer (nullable = true)\n |-- ALSUnit: boolean (nullable = true)\n |-- CallTypeGroup: string (nullable = true)\n |-- NumAlarms: integer (nullable = true)\n |-- UnitType: string (nullable = true)\n |-- UnitSequenceInCallDispatch: integer (nullable = true)\n |-- FirePreventionDistrict: string (nullable = true)\n |-- SupervisorDistrict: string (nullable = true)\n |-- Neighborhood: string (nullable = true)\n |-- Location: string (nullable = true)\n |-- RowID: string (nullable = true)\n |-- Delay: double (nullable = true)\n\n"
     ]
    }
   ],
   "source": [
    "rename_df.printSchema()"
   ]
  },
  {
   "cell_type": "code",
   "execution_count": 0,
   "metadata": {
    "application/vnd.databricks.v1+cell": {
     "cellMetadata": {
      "byteLimit": 2048000,
      "rowLimit": 10000
     },
     "inputWidgets": {},
     "nuid": "bec4bb7c-60d6-475a-a205-b2e591e28594",
     "showTitle": false,
     "tableResultSettingsMap": {},
     "title": ""
    }
   },
   "outputs": [],
   "source": [
    "#change data type\n",
    "\n",
    "df = rename_df \\\n",
    "        .withColumn('CallDate',to_date('CallDate','MM/dd/yyyy'))\\\n",
    "        .withColumn(\"WatchDate\", to_date(\"WatchDate\", \"MM/dd/yyyy\")) \\\n",
    "        .withColumn(\"AvailableDtTm\", to_timestamp(\"AvailableDtTm\", \"MM/dd/yyyy hh:mm:ss a\")) \\\n",
    "        .withColumn(\"Delay\", round(\"Delay\", 2))"
   ]
  },
  {
   "cell_type": "code",
   "execution_count": 0,
   "metadata": {
    "application/vnd.databricks.v1+cell": {
     "cellMetadata": {
      "byteLimit": 2048000,
      "rowLimit": 10000
     },
     "inputWidgets": {},
     "nuid": "2aaa7055-83e0-4ba0-849a-fe96dd2c4206",
     "showTitle": false,
     "tableResultSettingsMap": {},
     "title": ""
    }
   },
   "outputs": [
    {
     "output_type": "stream",
     "name": "stdout",
     "output_type": "stream",
     "text": [
      "root\n |-- CallNumber: integer (nullable = true)\n |-- UnitID: string (nullable = true)\n |-- IncidentNumber: integer (nullable = true)\n |-- CallType: string (nullable = true)\n |-- CallDate: date (nullable = true)\n |-- WatchDate: date (nullable = true)\n |-- CallFinalDisposition: string (nullable = true)\n |-- AvailableDtTm: timestamp (nullable = true)\n |-- Address: string (nullable = true)\n |-- City: string (nullable = true)\n |-- Zipcode: integer (nullable = true)\n |-- Battalion: string (nullable = true)\n |-- StationArea: string (nullable = true)\n |-- Box: string (nullable = true)\n |-- OrigPriority: string (nullable = true)\n |-- Priority: string (nullable = true)\n |-- FinalPriority: integer (nullable = true)\n |-- ALSUnit: boolean (nullable = true)\n |-- CallTypeGroup: string (nullable = true)\n |-- NumAlarms: integer (nullable = true)\n |-- UnitType: string (nullable = true)\n |-- UnitSequenceInCallDispatch: integer (nullable = true)\n |-- FirePreventionDistrict: string (nullable = true)\n |-- SupervisorDistrict: string (nullable = true)\n |-- Neighborhood: string (nullable = true)\n |-- Location: string (nullable = true)\n |-- RowID: string (nullable = true)\n |-- Delay: double (nullable = true)\n\n"
     ]
    }
   ],
   "source": [
    "df.printSchema()"
   ]
  },
  {
   "cell_type": "code",
   "execution_count": 0,
   "metadata": {
    "application/vnd.databricks.v1+cell": {
     "cellMetadata": {
      "byteLimit": 2048000,
      "rowLimit": 10000
     },
     "inputWidgets": {},
     "nuid": "b3dc582a-36ad-4d6c-b272-8f6fbd79f726",
     "showTitle": false,
     "tableResultSettingsMap": {},
     "title": ""
    }
   },
   "outputs": [
    {
     "output_type": "stream",
     "name": "stdout",
     "output_type": "stream",
     "text": [
      "Out[17]: DataFrame[CallNumber: int, UnitID: string, IncidentNumber: int, CallType: string, CallDate: date, WatchDate: date, CallFinalDisposition: string, AvailableDtTm: timestamp, Address: string, City: string, Zipcode: int, Battalion: string, StationArea: string, Box: string, OrigPriority: string, Priority: string, FinalPriority: int, ALSUnit: boolean, CallTypeGroup: string, NumAlarms: int, UnitType: string, UnitSequenceInCallDispatch: int, FirePreventionDistrict: string, SupervisorDistrict: string, Neighborhood: string, Location: string, RowID: string, Delay: double]"
     ]
    }
   ],
   "source": [
    "\n",
    "df.cache()"
   ]
  },
  {
   "cell_type": "markdown",
   "metadata": {
    "application/vnd.databricks.v1+cell": {
     "cellMetadata": {},
     "inputWidgets": {},
     "nuid": "cb293c91-7431-498d-ad4f-e05203b25193",
     "showTitle": false,
     "tableResultSettingsMap": {},
     "title": ""
    }
   },
   "source": [
    " How many distinct types of calls were made to the Fire Department?"
   ]
  },
  {
   "cell_type": "code",
   "execution_count": 0,
   "metadata": {
    "application/vnd.databricks.v1+cell": {
     "cellMetadata": {
      "byteLimit": 2048000,
      "rowLimit": 10000
     },
     "inputWidgets": {},
     "nuid": "4055f0d9-615b-4a8e-a4be-bfc737ff7114",
     "showTitle": false,
     "tableResultSettingsMap": {},
     "title": ""
    }
   },
   "outputs": [],
   "source": [
    "# solution 1 - using spark sql \n",
    "\n",
    "df.createOrReplaceTempView(\"df_view_1\")\n",
    "df_sql_1 = spark.sql(''' \n",
    "                     select count(distinct CallType) as distinct_call_type_count\n",
    "                     from df_view_1\n",
    "                     where CallType is not null\n",
    "                     ''')"
   ]
  },
  {
   "cell_type": "code",
   "execution_count": 0,
   "metadata": {
    "application/vnd.databricks.v1+cell": {
     "cellMetadata": {
      "byteLimit": 2048000,
      "rowLimit": 10000
     },
     "inputWidgets": {},
     "nuid": "07c49c38-5be7-4e53-af3b-183cc0f29405",
     "showTitle": false,
     "tableResultSettingsMap": {},
     "title": ""
    }
   },
   "outputs": [
    {
     "output_type": "display_data",
     "data": {
      "text/html": [
       "<style scoped>\n",
       "  .table-result-container {\n",
       "    max-height: 300px;\n",
       "    overflow: auto;\n",
       "  }\n",
       "  table, th, td {\n",
       "    border: 1px solid black;\n",
       "    border-collapse: collapse;\n",
       "  }\n",
       "  th, td {\n",
       "    padding: 5px;\n",
       "  }\n",
       "  th {\n",
       "    text-align: left;\n",
       "  }\n",
       "</style><div class='table-result-container'><table class='table-result'><thead style='background-color: white'><tr><th>distinct_call_type_count</th></tr></thead><tbody><tr><td>32</td></tr></tbody></table></div>"
      ]
     },
     "metadata": {
      "application/vnd.databricks.v1+output": {
       "addedWidgets": {},
       "aggData": [],
       "aggError": "",
       "aggOverflow": false,
       "aggSchema": [],
       "aggSeriesLimitReached": false,
       "aggType": "",
       "arguments": {},
       "columnCustomDisplayInfos": {},
       "data": [
        [
         32
        ]
       ],
       "datasetInfos": [],
       "dbfsResultPath": null,
       "isJsonSchema": true,
       "metadata": {},
       "overflow": false,
       "plotOptions": {
        "customPlotOptions": {},
        "displayType": "table",
        "pivotAggregation": null,
        "pivotColumns": null,
        "xColumns": null,
        "yColumns": null
       },
       "removedWidgets": [],
       "schema": [
        {
         "metadata": "{}",
         "name": "distinct_call_type_count",
         "type": "\"long\""
        }
       ],
       "type": "table"
      }
     },
     "output_type": "display_data"
    }
   ],
   "source": [
    "display(df_sql_1)"
   ]
  },
  {
   "cell_type": "code",
   "execution_count": 0,
   "metadata": {
    "application/vnd.databricks.v1+cell": {
     "cellMetadata": {
      "byteLimit": 2048000,
      "rowLimit": 10000
     },
     "inputWidgets": {},
     "nuid": "d5daddce-1ad1-4a92-9fe2-ee7fa718921b",
     "showTitle": false,
     "tableResultSettingsMap": {},
     "title": ""
    }
   },
   "outputs": [
    {
     "output_type": "stream",
     "name": "stdout",
     "output_type": "stream",
     "text": [
      "32\n"
     ]
    }
   ],
   "source": [
    "# solution 2 \n",
    "\n",
    "df1 = df.where('CallType is not null')\\\n",
    "        .select('CallType')\\\n",
    "        .distinct()\n",
    "\n",
    "print(df1.count())"
   ]
  },
  {
   "cell_type": "markdown",
   "metadata": {
    "application/vnd.databricks.v1+cell": {
     "cellMetadata": {},
     "inputWidgets": {},
     "nuid": "cee8e102-fe18-4620-983d-94b624bdf058",
     "showTitle": false,
     "tableResultSettingsMap": {},
     "title": ""
    }
   },
   "source": [
    "find out all response for delayed times greater than 5 min"
   ]
  },
  {
   "cell_type": "code",
   "execution_count": 0,
   "metadata": {
    "application/vnd.databricks.v1+cell": {
     "cellMetadata": {
      "byteLimit": 2048000,
      "rowLimit": 10000
     },
     "inputWidgets": {},
     "nuid": "1090dea2-6fb2-4156-9746-d67b5fa8d200",
     "showTitle": false,
     "tableResultSettingsMap": {},
     "title": ""
    }
   },
   "outputs": [
    {
     "output_type": "stream",
     "name": "stdout",
     "output_type": "stream",
     "text": [
      "+----------+-----+\n|CallNumber|Delay|\n+----------+-----+\n|  20110014| 5.23|\n|  20110017| 6.93|\n|  20110019| 6.12|\n|  20110039| 7.85|\n|  20110045|77.33|\n|  20110046| 5.42|\n|  20110055|  6.5|\n|  20110058| 6.85|\n|  20110058| 6.85|\n|  20110061| 6.33|\n|  20110062| 7.02|\n|  20110066|  9.1|\n|  20110068| 5.98|\n|  20110070| 5.42|\n|  20110070| 5.08|\n|  20110070| 8.18|\n|  20110070| 5.98|\n|  20110077|18.07|\n|  20110103| 5.55|\n|  20110103| 5.97|\n+----------+-----+\nonly showing top 20 rows\n\n"
     ]
    }
   ],
   "source": [
    "# sql: select CallNumber,Delay from df where Delay>5\n",
    "\n",
    "df2 = df.where('Delay>5')\\\n",
    "  .select(\"CallNumber\",'Delay')\\\n",
    "  .show()\n"
   ]
  },
  {
   "cell_type": "markdown",
   "metadata": {
    "application/vnd.databricks.v1+cell": {
     "cellMetadata": {},
     "inputWidgets": {},
     "nuid": "c458d730-ce0f-468b-8f42-27b8f5988a97",
     "showTitle": false,
     "tableResultSettingsMap": {},
     "title": ""
    }
   },
   "source": [
    "what were the most common call types \n"
   ]
  },
  {
   "cell_type": "code",
   "execution_count": 0,
   "metadata": {
    "application/vnd.databricks.v1+cell": {
     "cellMetadata": {},
     "inputWidgets": {},
     "nuid": "a8e8c783-dee5-44f7-a4ff-54dd6cba1d95",
     "showTitle": false,
     "tableResultSettingsMap": {},
     "title": ""
    }
   },
   "outputs": [],
   "source": [
    "%sql\n",
    "\n",
    "select CallType, count(*) as count from df\n",
    "where CallType is not null \n",
    "group by CallType order by count desc"
   ]
  },
  {
   "cell_type": "code",
   "execution_count": 0,
   "metadata": {
    "application/vnd.databricks.v1+cell": {
     "cellMetadata": {
      "byteLimit": 2048000,
      "rowLimit": 10000
     },
     "inputWidgets": {},
     "nuid": "f6ef9048-02ca-47ae-aea0-65f6a2a3ce59",
     "showTitle": false,
     "tableResultSettingsMap": {},
     "title": ""
    }
   },
   "outputs": [
    {
     "output_type": "stream",
     "name": "stdout",
     "output_type": "stream",
     "text": [
      "+--------------------+-------+\n|            CallType|  count|\n+--------------------+-------+\n|    Medical Incident|2843475|\n|      Structure Fire| 578998|\n|              Alarms| 483518|\n|   Traffic Collision| 175507|\n|Citizen Assist / ...|  65360|\n|               Other|  56961|\n|        Outside Fire|  51603|\n|        Vehicle Fire|  20939|\n|        Water Rescue|  20037|\n|Gas Leak (Natural...|  17284|\n|   Electrical Hazard|  12608|\n|Elevator / Escala...|  11851|\n|Odor (Strange / U...|  11680|\n|Smoke Investigati...|   9796|\n|          Fuel Spill|   5198|\n|              HazMat|   3437|\n|Industrial Accidents|   2401|\n|           Explosion|   2307|\n|  Aircraft Emergency|   1196|\n|Train / Rail Inci...|   1116|\n+--------------------+-------+\nonly showing top 20 rows\n\n"
     ]
    }
   ],
   "source": [
    "\n",
    "df.select('CallType')\\\n",
    "    .where('CallType is not null')\\\n",
    "    .groupby('CallType') \\\n",
    "    .count()\\\n",
    "    .orderBy('count',ascending = False)\\\n",
    "    .show()"
   ]
  },
  {
   "cell_type": "markdown",
   "metadata": {
    "application/vnd.databricks.v1+cell": {
     "cellMetadata": {},
     "inputWidgets": {},
     "nuid": "a564e9b3-a7df-4d86-9e16-018d0466869f",
     "showTitle": false,
     "tableResultSettingsMap": {},
     "title": ""
    }
   },
   "source": [
    "what zip codes accounted for most common calls"
   ]
  },
  {
   "cell_type": "code",
   "execution_count": 0,
   "metadata": {
    "application/vnd.databricks.v1+cell": {
     "cellMetadata": {},
     "inputWidgets": {},
     "nuid": "7bd1e472-58d6-4cff-b1b3-01b41af02ebd",
     "showTitle": false,
     "tableResultSettingsMap": {},
     "title": ""
    }
   },
   "outputs": [],
   "source": [
    "%sql\n",
    "\n",
    "select CallType, ZipCode, count(*) as count\n",
    "from df\n",
    "where CallType is not null\n",
    "group by CallType, Zipcode\n",
    "order by count desc"
   ]
  },
  {
   "cell_type": "code",
   "execution_count": 0,
   "metadata": {
    "application/vnd.databricks.v1+cell": {
     "cellMetadata": {
      "byteLimit": 2048000,
      "rowLimit": 10000
     },
     "inputWidgets": {},
     "nuid": "53fb3b7a-6b5a-4871-9ce3-6b2f67ca9d97",
     "showTitle": false,
     "tableResultSettingsMap": {},
     "title": ""
    }
   },
   "outputs": [
    {
     "output_type": "stream",
     "name": "stdout",
     "output_type": "stream",
     "text": [
      "+----------------+-------+------+\n|        CallType|ZipCode| count|\n+----------------+-------+------+\n|Medical Incident|  94102|401457|\n|Medical Incident|  94103|370215|\n|Medical Incident|  94110|249279|\n|Medical Incident|  94109|238087|\n|Medical Incident|  94124|147564|\n|Medical Incident|  94112|139565|\n|Medical Incident|  94115|120087|\n|Medical Incident|  94122|107602|\n|Medical Incident|  94107|107439|\n|Medical Incident|  94133| 99050|\n|Medical Incident|  94117| 92744|\n|Medical Incident|  94134| 83569|\n|Medical Incident|  94114| 82378|\n|Medical Incident|  94118| 77817|\n|Medical Incident|  94121| 74943|\n|Medical Incident|  94116| 66742|\n|Medical Incident|  94132| 64439|\n|  Structure Fire|  94110| 57014|\n|Medical Incident|  94105| 56909|\n|  Structure Fire|  94103| 55529|\n+----------------+-------+------+\nonly showing top 20 rows\n\n"
     ]
    }
   ],
   "source": [
    "df.select('CallType','ZipCode')\\\n",
    "    .where('CallType is not null')\\\n",
    "    .groupby('CallType','ZipCode') \\\n",
    "    .count()\\\n",
    "    .orderBy('count',ascending = False)\\\n",
    "    .show()"
   ]
  },
  {
   "cell_type": "code",
   "execution_count": 0,
   "metadata": {
    "application/vnd.databricks.v1+cell": {
     "cellMetadata": {},
     "inputWidgets": {},
     "nuid": "f47fb8e6-bf3f-4b11-8dff-c1b9d9a94137",
     "showTitle": false,
     "tableResultSettingsMap": {},
     "title": ""
    }
   },
   "outputs": [],
   "source": [
    "%sql\n",
    "select distinct Neighborhood, Zipcode\n",
    "from fire_service_calls_tbl\n",
    "where Zipcode== 94102 or Zipcode == 94103"
   ]
  },
  {
   "cell_type": "code",
   "execution_count": 0,
   "metadata": {
    "application/vnd.databricks.v1+cell": {
     "cellMetadata": {
      "byteLimit": 2048000,
      "rowLimit": 10000
     },
     "inputWidgets": {},
     "nuid": "8b20ecb5-328b-4a3c-a70b-539d4fad8397",
     "showTitle": false,
     "tableResultSettingsMap": {},
     "title": ""
    }
   },
   "outputs": [
    {
     "output_type": "stream",
     "name": "stdout",
     "output_type": "stream",
     "text": [
      "+--------------------+-------+\n|        Neighborhood|Zipcode|\n+--------------------+-------+\n|        Potrero Hill|  94103|\n|    Western Addition|  94102|\n|          Tenderloin|  94102|\n|            Nob Hill|  94102|\n| Castro/Upper Market|  94103|\n|             Mission|  94102|\n|     South of Market|  94102|\n|     South of Market|  94103|\n|        Hayes Valley|  94103|\n|Financial Distric...|  94102|\n|         Mission Bay|  94103|\n|          Tenderloin|  94103|\n|Financial Distric...|  94103|\n|        Hayes Valley|  94102|\n|             Mission|  94103|\n+--------------------+-------+\n\n"
     ]
    }
   ],
   "source": [
    "df.filter((df.Zipcode == 94102) | (df.Zipcode == 94103))\\\n",
    "    .select('Neighborhood','Zipcode').distinct()\\\n",
    "    .show()"
   ]
  },
  {
   "cell_type": "code",
   "execution_count": 0,
   "metadata": {
    "application/vnd.databricks.v1+cell": {
     "cellMetadata": {
      "byteLimit": 2048000,
      "rowLimit": 10000
     },
     "inputWidgets": {},
     "nuid": "31218c8e-bf96-443a-9b7c-534c96890eca",
     "showTitle": false,
     "tableResultSettingsMap": {},
     "title": ""
    }
   },
   "outputs": [
    {
     "output_type": "stream",
     "name": "stdout",
     "output_type": "stream",
     "text": [
      "+--------------------+-------+\n|        Neighborhood|Zipcode|\n+--------------------+-------+\n|        Potrero Hill|  94103|\n|    Western Addition|  94102|\n|          Tenderloin|  94102|\n|            Nob Hill|  94102|\n| Castro/Upper Market|  94103|\n|             Mission|  94102|\n|     South of Market|  94102|\n|     South of Market|  94103|\n|        Hayes Valley|  94103|\n|Financial Distric...|  94102|\n|         Mission Bay|  94103|\n|          Tenderloin|  94103|\n|Financial Distric...|  94103|\n|        Hayes Valley|  94102|\n|             Mission|  94103|\n+--------------------+-------+\n\n"
     ]
    }
   ],
   "source": [
    "# can use where as well\n",
    "df.where(\"Zipcode == 94102 or Zipcode == 94103 \")\\\n",
    "    .select('Neighborhood','Zipcode').distinct()\\\n",
    "    .show()"
   ]
  },
  {
   "cell_type": "markdown",
   "metadata": {
    "application/vnd.databricks.v1+cell": {
     "cellMetadata": {},
     "inputWidgets": {},
     "nuid": "1abefbea-df13-4055-ae9f-e8188345196a",
     "showTitle": false,
     "tableResultSettingsMap": {},
     "title": ""
    }
   },
   "source": [
    "what was the sum of all calls, average,min and max of the response times for calls?"
   ]
  },
  {
   "cell_type": "code",
   "execution_count": 0,
   "metadata": {
    "application/vnd.databricks.v1+cell": {
     "cellMetadata": {},
     "inputWidgets": {},
     "nuid": "a369b38a-f274-469b-a7d3-29c355bfcebe",
     "showTitle": false,
     "tableResultSettingsMap": {},
     "title": ""
    }
   },
   "outputs": [],
   "source": [
    "%sql\n",
    "select sum(NumAlarms), avg(Delay), min(Delay), max(Delay)\n",
    "from fire_service_calls_tbl"
   ]
  },
  {
   "cell_type": "code",
   "execution_count": 0,
   "metadata": {
    "application/vnd.databricks.v1+cell": {
     "cellMetadata": {
      "byteLimit": 2048000,
      "rowLimit": 10000
     },
     "inputWidgets": {},
     "nuid": "b7be15a5-4ea4-4a2e-a84b-dcd83ebb2fb3",
     "showTitle": false,
     "tableResultSettingsMap": {},
     "title": ""
    }
   },
   "outputs": [
    {
     "output_type": "stream",
     "name": "stdout",
     "output_type": "stream",
     "text": [
      "+-------------+------------------+---------+---------+\n|sum_NumAlarms|         avg_Delay|min_Delay|max_Delay|\n+-------------+------------------+---------+---------+\n|      4403441|3.9021698123113886|     0.02|  1879.62|\n+-------------+------------------+---------+---------+\n\n"
     ]
    }
   ],
   "source": [
    "df.agg(\n",
    "    sum('NumAlarms').alias('sum_NumAlarms'),\n",
    "    avg(\"Delay\").alias(\"avg_Delay\"),\n",
    "    min(\"Delay\").alias(\"min_Delay\"),\n",
    "    max(\"Delay\").alias(\"max_Delay\"))\\\n",
    "  .show()"
   ]
  },
  {
   "cell_type": "markdown",
   "metadata": {
    "application/vnd.databricks.v1+cell": {
     "cellMetadata": {},
     "inputWidgets": {},
     "nuid": "c77a3f3f-c9a5-4a1a-a21f-bad881a8fdeb",
     "showTitle": false,
     "tableResultSettingsMap": {},
     "title": ""
    }
   },
   "source": [
    "how many distinct years of data in the csv file"
   ]
  },
  {
   "cell_type": "code",
   "execution_count": 0,
   "metadata": {
    "application/vnd.databricks.v1+cell": {
     "cellMetadata": {},
     "inputWidgets": {},
     "nuid": "b4e87f8e-efcb-4c38-a719-4f9479541436",
     "showTitle": false,
     "tableResultSettingsMap": {},
     "title": ""
    }
   },
   "outputs": [],
   "source": [
    "%sql\n",
    "select distinct year(to_timestamp(CallDate, \"MM/dd/yyyy\")) as year_num\n",
    "from fire_service_calls_tbl\n",
    "order by year_num"
   ]
  },
  {
   "cell_type": "code",
   "execution_count": 0,
   "metadata": {
    "application/vnd.databricks.v1+cell": {
     "cellMetadata": {
      "byteLimit": 2048000,
      "rowLimit": 10000
     },
     "inputWidgets": {},
     "nuid": "7c494eec-4985-44e1-8f52-1a69a93d8f1d",
     "showTitle": false,
     "tableResultSettingsMap": {},
     "title": ""
    }
   },
   "outputs": [
    {
     "output_type": "stream",
     "name": "stdout",
     "output_type": "stream",
     "text": [
      "number of distinct years of data is: 19\n"
     ]
    }
   ],
   "source": [
    "df1 = df.withColumn('year_num',year(to_timestamp('CallDate',\"MM/dd/yyyy\")))\\\n",
    "    .select('year_num').distinct().orderBy('year_num')\n",
    "result = df1.count()\n",
    "print('number of distinct years of data is:',result)"
   ]
  },
  {
   "cell_type": "markdown",
   "metadata": {
    "application/vnd.databricks.v1+cell": {
     "cellMetadata": {},
     "inputWidgets": {},
     "nuid": "425bb3c5-b233-4db1-b435-36bd834e1079",
     "showTitle": false,
     "tableResultSettingsMap": {},
     "title": ""
    }
   },
   "source": [
    "What week of the year in 2018 had the most fire calls?"
   ]
  },
  {
   "cell_type": "code",
   "execution_count": 0,
   "metadata": {
    "application/vnd.databricks.v1+cell": {
     "cellMetadata": {},
     "inputWidgets": {},
     "nuid": "ad358288-5b87-4cfc-93bc-9ead8f786d19",
     "showTitle": false,
     "tableResultSettingsMap": {},
     "title": ""
    }
   },
   "outputs": [],
   "source": [
    "%sql\n",
    "select weekofyear(to_timestamp(CallDate, \"MM/dd/yyyy\")) week_year, count(*) as count\n",
    "from fire_service_calls_tbl \n",
    "where year(to_timestamp(CallDate, \"MM/dd/yyyy\")) == 2018\n",
    "group by week_year\n",
    "order by count desc"
   ]
  },
  {
   "cell_type": "code",
   "execution_count": 0,
   "metadata": {
    "application/vnd.databricks.v1+cell": {
     "cellMetadata": {
      "byteLimit": 2048000,
      "rowLimit": 10000
     },
     "inputWidgets": {},
     "nuid": "56ee8cc5-5487-4c3f-adc5-ece064fc1012",
     "showTitle": false,
     "tableResultSettingsMap": {},
     "title": ""
    }
   },
   "outputs": [],
   "source": [
    "df1 = df.withColumn('timestamp',to_timestamp('CallDate', \"MM/dd/yyyy\"))\\\n",
    "        .filter(year('timestamp')==2018)\\\n",
    "        .withColumn('week_year',weekofyear('timestamp'))\n"
   ]
  },
  {
   "cell_type": "code",
   "execution_count": 0,
   "metadata": {
    "application/vnd.databricks.v1+cell": {
     "cellMetadata": {
      "byteLimit": 2048000,
      "rowLimit": 10000
     },
     "inputWidgets": {},
     "nuid": "7b949715-7c3e-4029-8cbc-9f636e9a38ba",
     "showTitle": false,
     "tableResultSettingsMap": {},
     "title": ""
    }
   },
   "outputs": [
    {
     "output_type": "stream",
     "name": "stdout",
     "output_type": "stream",
     "text": [
      "+---------+-----+\n|week_year|count|\n+---------+-----+\n|        1| 6401|\n|       25| 6163|\n|       13| 6103|\n|       22| 6060|\n|       44| 6048|\n|       27| 6042|\n|       16| 6009|\n|       40| 6000|\n|       43| 5986|\n|        5| 5946|\n|        2| 5929|\n|       18| 5917|\n|        9| 5874|\n|        8| 5843|\n|        6| 5839|\n|       21| 5821|\n|       38| 5817|\n|       10| 5806|\n|       23| 5781|\n|       32| 5764|\n+---------+-----+\nonly showing top 20 rows\n\n"
     ]
    }
   ],
   "source": [
    "# orderBy(col('count').desc())\n",
    "df3 = df1.groupby('week_year')\\\n",
    "            .count()\\\n",
    "            .orderBy(col('count').desc())\\\n",
    "            .show()"
   ]
  },
  {
   "cell_type": "code",
   "execution_count": 0,
   "metadata": {
    "application/vnd.databricks.v1+cell": {
     "cellMetadata": {
      "byteLimit": 2048000,
      "rowLimit": 10000
     },
     "inputWidgets": {},
     "nuid": "6c7def3e-2111-4411-83da-81fffb866b43",
     "showTitle": false,
     "tableResultSettingsMap": {},
     "title": ""
    }
   },
   "outputs": [
    {
     "output_type": "stream",
     "name": "stdout",
     "output_type": "stream",
     "text": [
      "+---------+-----+\n|week_year|count|\n+---------+-----+\n|        1| 6401|\n|       25| 6163|\n|       13| 6103|\n|       22| 6060|\n|       44| 6048|\n|       27| 6042|\n|       16| 6009|\n|       40| 6000|\n|       43| 5986|\n|        5| 5946|\n|        2| 5929|\n|       18| 5917|\n|        9| 5874|\n|        8| 5843|\n|        6| 5839|\n|       21| 5821|\n|       38| 5817|\n|       10| 5806|\n|       23| 5781|\n|       32| 5764|\n+---------+-----+\nonly showing top 20 rows\n\n"
     ]
    }
   ],
   "source": [
    "result = df1.groupby('week_year')\\\n",
    "            .count()\\\n",
    "            .orderBy('count',ascending = False)\\\n",
    "            .show()\n"
   ]
  },
  {
   "cell_type": "markdown",
   "metadata": {
    "application/vnd.databricks.v1+cell": {
     "cellMetadata": {},
     "inputWidgets": {},
     "nuid": "28832ca8-0ecc-4b84-8d99-dbd77a182199",
     "showTitle": false,
     "tableResultSettingsMap": {},
     "title": ""
    }
   },
   "source": [
    "What neigborhoods in San Francisco had the worst response time in 2018?"
   ]
  },
  {
   "cell_type": "code",
   "execution_count": 0,
   "metadata": {
    "application/vnd.databricks.v1+cell": {
     "cellMetadata": {},
     "inputWidgets": {},
     "nuid": "f32af0b8-d4bd-419b-88b4-8b3a10a75528",
     "showTitle": false,
     "tableResultSettingsMap": {},
     "title": ""
    }
   },
   "outputs": [],
   "source": [
    "%sql\n",
    "select Neighborhood, Delay\n",
    "from fire_service_calls_tbl \n",
    "where year(to_timestamp(CallDate, \"MM/dd/yyyy\")) == 2018"
   ]
  },
  {
   "cell_type": "code",
   "execution_count": 0,
   "metadata": {
    "application/vnd.databricks.v1+cell": {
     "cellMetadata": {
      "byteLimit": 2048000,
      "rowLimit": 10000
     },
     "inputWidgets": {},
     "nuid": "0e86fbd9-299f-4c19-9808-26b9f0f7c891",
     "showTitle": false,
     "tableResultSettingsMap": {},
     "title": ""
    }
   },
   "outputs": [
    {
     "output_type": "stream",
     "name": "stdout",
     "output_type": "stream",
     "text": [
      "+--------------------+-----+\n|        neighborhood|Delay|\n+--------------------+-----+\n|    Presidio Heights| 2.47|\n|    Presidio Heights| 2.88|\n|    Presidio Heights| 2.12|\n|    Presidio Heights| 4.25|\n|    Presidio Heights| 2.82|\n|    Presidio Heights|  3.4|\n|    Presidio Heights| 2.73|\n|         Mission Bay| 6.27|\n|         Mission Bay| 6.73|\n|         Mission Bay| 6.33|\n|Bayview Hunters P...| 1.47|\n|Bayview Hunters P...|  4.6|\n|Bayview Hunters P...| 3.27|\n|Bayview Hunters P...| 2.47|\n|Bayview Hunters P...|  1.9|\n|Bayview Hunters P...| 2.25|\n|Bayview Hunters P...| 1.73|\n|Bayview Hunters P...| 2.32|\n|Bayview Hunters P...| 2.48|\n|Bayview Hunters P...| 2.03|\n+--------------------+-----+\nonly showing top 20 rows\n\n"
     ]
    }
   ],
   "source": [
    "df.withColumn('time',to_timestamp('CallDate',\"MM/dd/yyyy\"))\\\n",
    "    .filter(year('time')==2018)\\\n",
    "    .select('neighborhood','Delay')\\\n",
    "    .show()"
   ]
  }
 ],
 "metadata": {
  "application/vnd.databricks.v1+notebook": {
   "computePreferences": null,
   "dashboards": [],
   "environmentMetadata": null,
   "language": "python",
   "notebookMetadata": {
    "mostRecentlyExecutedCommandWithImplicitDF": {
     "commandId": 1864679366043355,
     "dataframes": [
      "_sqldf"
     ]
    },
    "pythonIndentUnit": 4
   },
   "notebookName": "Spark Dataframe basic",
   "widgets": {}
  }
 },
 "nbformat": 4,
 "nbformat_minor": 0
}
